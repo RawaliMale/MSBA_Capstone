{
 "cells": [
  {
   "cell_type": "markdown",
   "id": "08114e6c",
   "metadata": {},
   "source": [
    "# Home Credit Default Risk EDA"
   ]
  },
  {
   "cell_type": "markdown",
   "id": "350ae4bf",
   "metadata": {},
   "source": [
    "### Completed by:  Gnana Chaithanya Rawali Male \n",
    "### Uid: u1448935\n"
   ]
  },
  {
   "cell_type": "markdown",
   "id": "9d995c54",
   "metadata": {},
   "source": [
    "## Table of Contents"
   ]
  },
  {
   "cell_type": "markdown",
   "id": "a9fdd0ba",
   "metadata": {},
   "source": [
    "1. <a href=\"#1.-Introduction\">Introduction</a>\n",
    "2. <a href=\"#2.-Loading-Data\">Loading Data</a>\n",
    "3. <a href=\"#3.-Investigating-the-Train-dataset\">Investigating the Train dataset</a>\n",
    "4. <a href=\"#4.-Distribution-of-Target-Variable\">Distribution of Target Variable</a>\n",
    "5. <a href=\"#5.-EDA\">EDA</a>\n",
    "6. <a href=\"#6.-Finding-the-Correlation\">Finding the Correlation</a>\n",
    "7. <a href=\"#7.-Data-Cleaning:-Missing-Values\">Data Cleaning: Missing Values</a>\n",
    "8. <a href=\"#8.-Feature-Selection\">Feature Selection</a>\n",
    "9. <a href=\"#9.-Imputing-the-missing-values\">Imputing the missing values</a>\n",
    "10. <a href=\"#10.-Categorical-Data-Processing-(One-Hot-Encoding)\">Categorical Data Processing (One-Hot Encoding)</a>\n",
    "11. <a href=\"#11.-Exploring-Bureau-data\">Exploring Bureau data</a>\n",
    "12. <a href=\"#12.-Merging-bureau_data-and-train_data\">Merging bureau_data and train_data</a>\n",
    "13. <a href=\"#13.-Result\">Result</a>\n",
    "14. <a href=\"#14.-Future-Steps\">Future Steps</a>\n",
    "\n"
   ]
  },
  {
   "cell_type": "markdown",
   "id": "266ddad9",
   "metadata": {},
   "source": [
    "## 1. Introduction"
   ]
  },
  {
   "cell_type": "markdown",
   "id": "e5653f9c",
   "metadata": {},
   "source": [
    "Business Problem: Home Credit offers a secure and welcoming borrowing environment in an effort to modernize lending for the unbanked. To ensure that those who can repay are not denied access to credit while minimizing defaults, the fundamental difficulty is to accurately estimate whether a borrower will be able to repay a loan.\n",
    "\n"
   ]
  },
  {
   "cell_type": "markdown",
   "id": "386e7b4b",
   "metadata": {},
   "source": [
    "Project Goal: Our objective is to increase the precision of loan repayment estimates by utilizing exploratory data analysis (EDA) and statistical methods to acquire deep insights into Home Credit's loan application data. Through rigorous data investigation, we try to find patterns, trends, and potential risk factors within the dataset. Our main goal is to enable Home Credit to make data-driven lending decisions that lower the risk of default without denying credit to qualified customers. The improved accuracy of loan repayment predictions, which will support Home Credit's financial stability and customer happiness, will serve as a barometer for the project's performance."
   ]
  },
  {
   "cell_type": "markdown",
   "id": "29cca3f0",
   "metadata": {},
   "source": [
    "## 2. Loading Data"
   ]
  },
  {
   "cell_type": "markdown",
   "id": "3c29880b",
   "metadata": {},
   "source": [
    "### Importing required libraries\n"
   ]
  },
  {
   "cell_type": "code",
   "execution_count": 1,
   "id": "3a0cef9b",
   "metadata": {},
   "outputs": [],
   "source": [
    "#importing libraries that would help for calculations, data cleaning,manipulation and visualization\n",
    "\n",
    "import numpy as np\n",
    "import pandas as pd\n",
    "import matplotlib.pyplot as plt\n",
    "import seaborn as sns\n",
    "import warnings\n",
    "warnings.filterwarnings('ignore')\n",
    "%matplotlib inline\n"
   ]
  },
  {
   "cell_type": "markdown",
   "id": "4929aa25",
   "metadata": {},
   "source": [
    "### Application_train and Application_test "
   ]
  },
  {
   "cell_type": "code",
   "execution_count": 2,
   "id": "4970f478",
   "metadata": {},
   "outputs": [],
   "source": [
    "\n",
    "#reading the data from csv and saving it to the train_data DataFrame & test_data DataFrame\n",
    "train_data = pd.read_csv(\"C:\\\\Users\\\\u1448935\\\\Downloads\\\\MSBA_Capstone\\\\Data\\\\home-credit-default-risk\\\\application_train.csv\")\n",
    "test_data = pd.read_csv(\"C:\\\\Users\\\\u1448935\\\\Downloads\\\\MSBA_Capstone\\\\Data\\\\home-credit-default-risk\\\\application_test.csv\")\n"
   ]
  },
  {
   "cell_type": "code",
   "execution_count": 3,
   "id": "373cfc71",
   "metadata": {},
   "outputs": [
    {
     "data": {
      "text/html": [
       "<div>\n",
       "<style scoped>\n",
       "    .dataframe tbody tr th:only-of-type {\n",
       "        vertical-align: middle;\n",
       "    }\n",
       "\n",
       "    .dataframe tbody tr th {\n",
       "        vertical-align: top;\n",
       "    }\n",
       "\n",
       "    .dataframe thead th {\n",
       "        text-align: right;\n",
       "    }\n",
       "</style>\n",
       "<table border=\"1\" class=\"dataframe\">\n",
       "  <thead>\n",
       "    <tr style=\"text-align: right;\">\n",
       "      <th></th>\n",
       "      <th>SK_ID_CURR</th>\n",
       "      <th>TARGET</th>\n",
       "      <th>NAME_CONTRACT_TYPE</th>\n",
       "      <th>CODE_GENDER</th>\n",
       "      <th>FLAG_OWN_CAR</th>\n",
       "      <th>FLAG_OWN_REALTY</th>\n",
       "      <th>CNT_CHILDREN</th>\n",
       "      <th>AMT_INCOME_TOTAL</th>\n",
       "      <th>AMT_CREDIT</th>\n",
       "      <th>AMT_ANNUITY</th>\n",
       "      <th>...</th>\n",
       "      <th>FLAG_DOCUMENT_18</th>\n",
       "      <th>FLAG_DOCUMENT_19</th>\n",
       "      <th>FLAG_DOCUMENT_20</th>\n",
       "      <th>FLAG_DOCUMENT_21</th>\n",
       "      <th>AMT_REQ_CREDIT_BUREAU_HOUR</th>\n",
       "      <th>AMT_REQ_CREDIT_BUREAU_DAY</th>\n",
       "      <th>AMT_REQ_CREDIT_BUREAU_WEEK</th>\n",
       "      <th>AMT_REQ_CREDIT_BUREAU_MON</th>\n",
       "      <th>AMT_REQ_CREDIT_BUREAU_QRT</th>\n",
       "      <th>AMT_REQ_CREDIT_BUREAU_YEAR</th>\n",
       "    </tr>\n",
       "  </thead>\n",
       "  <tbody>\n",
       "    <tr>\n",
       "      <th>0</th>\n",
       "      <td>100002</td>\n",
       "      <td>1</td>\n",
       "      <td>Cash loans</td>\n",
       "      <td>M</td>\n",
       "      <td>N</td>\n",
       "      <td>Y</td>\n",
       "      <td>0</td>\n",
       "      <td>202500.0</td>\n",
       "      <td>406597.5</td>\n",
       "      <td>24700.5</td>\n",
       "      <td>...</td>\n",
       "      <td>0</td>\n",
       "      <td>0</td>\n",
       "      <td>0</td>\n",
       "      <td>0</td>\n",
       "      <td>0.0</td>\n",
       "      <td>0.0</td>\n",
       "      <td>0.0</td>\n",
       "      <td>0.0</td>\n",
       "      <td>0.0</td>\n",
       "      <td>1.0</td>\n",
       "    </tr>\n",
       "    <tr>\n",
       "      <th>1</th>\n",
       "      <td>100003</td>\n",
       "      <td>0</td>\n",
       "      <td>Cash loans</td>\n",
       "      <td>F</td>\n",
       "      <td>N</td>\n",
       "      <td>N</td>\n",
       "      <td>0</td>\n",
       "      <td>270000.0</td>\n",
       "      <td>1293502.5</td>\n",
       "      <td>35698.5</td>\n",
       "      <td>...</td>\n",
       "      <td>0</td>\n",
       "      <td>0</td>\n",
       "      <td>0</td>\n",
       "      <td>0</td>\n",
       "      <td>0.0</td>\n",
       "      <td>0.0</td>\n",
       "      <td>0.0</td>\n",
       "      <td>0.0</td>\n",
       "      <td>0.0</td>\n",
       "      <td>0.0</td>\n",
       "    </tr>\n",
       "    <tr>\n",
       "      <th>2</th>\n",
       "      <td>100004</td>\n",
       "      <td>0</td>\n",
       "      <td>Revolving loans</td>\n",
       "      <td>M</td>\n",
       "      <td>Y</td>\n",
       "      <td>Y</td>\n",
       "      <td>0</td>\n",
       "      <td>67500.0</td>\n",
       "      <td>135000.0</td>\n",
       "      <td>6750.0</td>\n",
       "      <td>...</td>\n",
       "      <td>0</td>\n",
       "      <td>0</td>\n",
       "      <td>0</td>\n",
       "      <td>0</td>\n",
       "      <td>0.0</td>\n",
       "      <td>0.0</td>\n",
       "      <td>0.0</td>\n",
       "      <td>0.0</td>\n",
       "      <td>0.0</td>\n",
       "      <td>0.0</td>\n",
       "    </tr>\n",
       "    <tr>\n",
       "      <th>3</th>\n",
       "      <td>100006</td>\n",
       "      <td>0</td>\n",
       "      <td>Cash loans</td>\n",
       "      <td>F</td>\n",
       "      <td>N</td>\n",
       "      <td>Y</td>\n",
       "      <td>0</td>\n",
       "      <td>135000.0</td>\n",
       "      <td>312682.5</td>\n",
       "      <td>29686.5</td>\n",
       "      <td>...</td>\n",
       "      <td>0</td>\n",
       "      <td>0</td>\n",
       "      <td>0</td>\n",
       "      <td>0</td>\n",
       "      <td>NaN</td>\n",
       "      <td>NaN</td>\n",
       "      <td>NaN</td>\n",
       "      <td>NaN</td>\n",
       "      <td>NaN</td>\n",
       "      <td>NaN</td>\n",
       "    </tr>\n",
       "    <tr>\n",
       "      <th>4</th>\n",
       "      <td>100007</td>\n",
       "      <td>0</td>\n",
       "      <td>Cash loans</td>\n",
       "      <td>M</td>\n",
       "      <td>N</td>\n",
       "      <td>Y</td>\n",
       "      <td>0</td>\n",
       "      <td>121500.0</td>\n",
       "      <td>513000.0</td>\n",
       "      <td>21865.5</td>\n",
       "      <td>...</td>\n",
       "      <td>0</td>\n",
       "      <td>0</td>\n",
       "      <td>0</td>\n",
       "      <td>0</td>\n",
       "      <td>0.0</td>\n",
       "      <td>0.0</td>\n",
       "      <td>0.0</td>\n",
       "      <td>0.0</td>\n",
       "      <td>0.0</td>\n",
       "      <td>0.0</td>\n",
       "    </tr>\n",
       "  </tbody>\n",
       "</table>\n",
       "<p>5 rows × 122 columns</p>\n",
       "</div>"
      ],
      "text/plain": [
       "   SK_ID_CURR  TARGET NAME_CONTRACT_TYPE CODE_GENDER FLAG_OWN_CAR  \\\n",
       "0      100002       1         Cash loans           M            N   \n",
       "1      100003       0         Cash loans           F            N   \n",
       "2      100004       0    Revolving loans           M            Y   \n",
       "3      100006       0         Cash loans           F            N   \n",
       "4      100007       0         Cash loans           M            N   \n",
       "\n",
       "  FLAG_OWN_REALTY  CNT_CHILDREN  AMT_INCOME_TOTAL  AMT_CREDIT  AMT_ANNUITY  \\\n",
       "0               Y             0          202500.0    406597.5      24700.5   \n",
       "1               N             0          270000.0   1293502.5      35698.5   \n",
       "2               Y             0           67500.0    135000.0       6750.0   \n",
       "3               Y             0          135000.0    312682.5      29686.5   \n",
       "4               Y             0          121500.0    513000.0      21865.5   \n",
       "\n",
       "   ...  FLAG_DOCUMENT_18 FLAG_DOCUMENT_19 FLAG_DOCUMENT_20 FLAG_DOCUMENT_21  \\\n",
       "0  ...                 0                0                0                0   \n",
       "1  ...                 0                0                0                0   \n",
       "2  ...                 0                0                0                0   \n",
       "3  ...                 0                0                0                0   \n",
       "4  ...                 0                0                0                0   \n",
       "\n",
       "  AMT_REQ_CREDIT_BUREAU_HOUR AMT_REQ_CREDIT_BUREAU_DAY  \\\n",
       "0                        0.0                       0.0   \n",
       "1                        0.0                       0.0   \n",
       "2                        0.0                       0.0   \n",
       "3                        NaN                       NaN   \n",
       "4                        0.0                       0.0   \n",
       "\n",
       "   AMT_REQ_CREDIT_BUREAU_WEEK  AMT_REQ_CREDIT_BUREAU_MON  \\\n",
       "0                         0.0                        0.0   \n",
       "1                         0.0                        0.0   \n",
       "2                         0.0                        0.0   \n",
       "3                         NaN                        NaN   \n",
       "4                         0.0                        0.0   \n",
       "\n",
       "   AMT_REQ_CREDIT_BUREAU_QRT  AMT_REQ_CREDIT_BUREAU_YEAR  \n",
       "0                        0.0                         1.0  \n",
       "1                        0.0                         0.0  \n",
       "2                        0.0                         0.0  \n",
       "3                        NaN                         NaN  \n",
       "4                        0.0                         0.0  \n",
       "\n",
       "[5 rows x 122 columns]"
      ]
     },
     "execution_count": 3,
     "metadata": {},
     "output_type": "execute_result"
    }
   ],
   "source": [
    "# viewing how the train_data look likes\n",
    "train_data.head()\n"
   ]
  },
  {
   "cell_type": "code",
   "execution_count": 4,
   "id": "48cc5dc9",
   "metadata": {},
   "outputs": [
    {
     "data": {
      "text/plain": [
       "(307511, 122)"
      ]
     },
     "execution_count": 4,
     "metadata": {},
     "output_type": "execute_result"
    }
   ],
   "source": [
    "# checking how many rows and columns does train_data set have\n",
    "train_data.shape"
   ]
  },
  {
   "cell_type": "code",
   "execution_count": 5,
   "id": "963f92a6",
   "metadata": {},
   "outputs": [
    {
     "data": {
      "text/html": [
       "<div>\n",
       "<style scoped>\n",
       "    .dataframe tbody tr th:only-of-type {\n",
       "        vertical-align: middle;\n",
       "    }\n",
       "\n",
       "    .dataframe tbody tr th {\n",
       "        vertical-align: top;\n",
       "    }\n",
       "\n",
       "    .dataframe thead th {\n",
       "        text-align: right;\n",
       "    }\n",
       "</style>\n",
       "<table border=\"1\" class=\"dataframe\">\n",
       "  <thead>\n",
       "    <tr style=\"text-align: right;\">\n",
       "      <th></th>\n",
       "      <th>SK_ID_CURR</th>\n",
       "      <th>NAME_CONTRACT_TYPE</th>\n",
       "      <th>CODE_GENDER</th>\n",
       "      <th>FLAG_OWN_CAR</th>\n",
       "      <th>FLAG_OWN_REALTY</th>\n",
       "      <th>CNT_CHILDREN</th>\n",
       "      <th>AMT_INCOME_TOTAL</th>\n",
       "      <th>AMT_CREDIT</th>\n",
       "      <th>AMT_ANNUITY</th>\n",
       "      <th>AMT_GOODS_PRICE</th>\n",
       "      <th>...</th>\n",
       "      <th>FLAG_DOCUMENT_18</th>\n",
       "      <th>FLAG_DOCUMENT_19</th>\n",
       "      <th>FLAG_DOCUMENT_20</th>\n",
       "      <th>FLAG_DOCUMENT_21</th>\n",
       "      <th>AMT_REQ_CREDIT_BUREAU_HOUR</th>\n",
       "      <th>AMT_REQ_CREDIT_BUREAU_DAY</th>\n",
       "      <th>AMT_REQ_CREDIT_BUREAU_WEEK</th>\n",
       "      <th>AMT_REQ_CREDIT_BUREAU_MON</th>\n",
       "      <th>AMT_REQ_CREDIT_BUREAU_QRT</th>\n",
       "      <th>AMT_REQ_CREDIT_BUREAU_YEAR</th>\n",
       "    </tr>\n",
       "  </thead>\n",
       "  <tbody>\n",
       "    <tr>\n",
       "      <th>0</th>\n",
       "      <td>100001</td>\n",
       "      <td>Cash loans</td>\n",
       "      <td>F</td>\n",
       "      <td>N</td>\n",
       "      <td>Y</td>\n",
       "      <td>0</td>\n",
       "      <td>135000.0</td>\n",
       "      <td>568800.0</td>\n",
       "      <td>20560.5</td>\n",
       "      <td>450000.0</td>\n",
       "      <td>...</td>\n",
       "      <td>0</td>\n",
       "      <td>0</td>\n",
       "      <td>0</td>\n",
       "      <td>0</td>\n",
       "      <td>0.0</td>\n",
       "      <td>0.0</td>\n",
       "      <td>0.0</td>\n",
       "      <td>0.0</td>\n",
       "      <td>0.0</td>\n",
       "      <td>0.0</td>\n",
       "    </tr>\n",
       "    <tr>\n",
       "      <th>1</th>\n",
       "      <td>100005</td>\n",
       "      <td>Cash loans</td>\n",
       "      <td>M</td>\n",
       "      <td>N</td>\n",
       "      <td>Y</td>\n",
       "      <td>0</td>\n",
       "      <td>99000.0</td>\n",
       "      <td>222768.0</td>\n",
       "      <td>17370.0</td>\n",
       "      <td>180000.0</td>\n",
       "      <td>...</td>\n",
       "      <td>0</td>\n",
       "      <td>0</td>\n",
       "      <td>0</td>\n",
       "      <td>0</td>\n",
       "      <td>0.0</td>\n",
       "      <td>0.0</td>\n",
       "      <td>0.0</td>\n",
       "      <td>0.0</td>\n",
       "      <td>0.0</td>\n",
       "      <td>3.0</td>\n",
       "    </tr>\n",
       "    <tr>\n",
       "      <th>2</th>\n",
       "      <td>100013</td>\n",
       "      <td>Cash loans</td>\n",
       "      <td>M</td>\n",
       "      <td>Y</td>\n",
       "      <td>Y</td>\n",
       "      <td>0</td>\n",
       "      <td>202500.0</td>\n",
       "      <td>663264.0</td>\n",
       "      <td>69777.0</td>\n",
       "      <td>630000.0</td>\n",
       "      <td>...</td>\n",
       "      <td>0</td>\n",
       "      <td>0</td>\n",
       "      <td>0</td>\n",
       "      <td>0</td>\n",
       "      <td>0.0</td>\n",
       "      <td>0.0</td>\n",
       "      <td>0.0</td>\n",
       "      <td>0.0</td>\n",
       "      <td>1.0</td>\n",
       "      <td>4.0</td>\n",
       "    </tr>\n",
       "    <tr>\n",
       "      <th>3</th>\n",
       "      <td>100028</td>\n",
       "      <td>Cash loans</td>\n",
       "      <td>F</td>\n",
       "      <td>N</td>\n",
       "      <td>Y</td>\n",
       "      <td>2</td>\n",
       "      <td>315000.0</td>\n",
       "      <td>1575000.0</td>\n",
       "      <td>49018.5</td>\n",
       "      <td>1575000.0</td>\n",
       "      <td>...</td>\n",
       "      <td>0</td>\n",
       "      <td>0</td>\n",
       "      <td>0</td>\n",
       "      <td>0</td>\n",
       "      <td>0.0</td>\n",
       "      <td>0.0</td>\n",
       "      <td>0.0</td>\n",
       "      <td>0.0</td>\n",
       "      <td>0.0</td>\n",
       "      <td>3.0</td>\n",
       "    </tr>\n",
       "    <tr>\n",
       "      <th>4</th>\n",
       "      <td>100038</td>\n",
       "      <td>Cash loans</td>\n",
       "      <td>M</td>\n",
       "      <td>Y</td>\n",
       "      <td>N</td>\n",
       "      <td>1</td>\n",
       "      <td>180000.0</td>\n",
       "      <td>625500.0</td>\n",
       "      <td>32067.0</td>\n",
       "      <td>625500.0</td>\n",
       "      <td>...</td>\n",
       "      <td>0</td>\n",
       "      <td>0</td>\n",
       "      <td>0</td>\n",
       "      <td>0</td>\n",
       "      <td>NaN</td>\n",
       "      <td>NaN</td>\n",
       "      <td>NaN</td>\n",
       "      <td>NaN</td>\n",
       "      <td>NaN</td>\n",
       "      <td>NaN</td>\n",
       "    </tr>\n",
       "  </tbody>\n",
       "</table>\n",
       "<p>5 rows × 121 columns</p>\n",
       "</div>"
      ],
      "text/plain": [
       "   SK_ID_CURR NAME_CONTRACT_TYPE CODE_GENDER FLAG_OWN_CAR FLAG_OWN_REALTY  \\\n",
       "0      100001         Cash loans           F            N               Y   \n",
       "1      100005         Cash loans           M            N               Y   \n",
       "2      100013         Cash loans           M            Y               Y   \n",
       "3      100028         Cash loans           F            N               Y   \n",
       "4      100038         Cash loans           M            Y               N   \n",
       "\n",
       "   CNT_CHILDREN  AMT_INCOME_TOTAL  AMT_CREDIT  AMT_ANNUITY  AMT_GOODS_PRICE  \\\n",
       "0             0          135000.0    568800.0      20560.5         450000.0   \n",
       "1             0           99000.0    222768.0      17370.0         180000.0   \n",
       "2             0          202500.0    663264.0      69777.0         630000.0   \n",
       "3             2          315000.0   1575000.0      49018.5        1575000.0   \n",
       "4             1          180000.0    625500.0      32067.0         625500.0   \n",
       "\n",
       "   ... FLAG_DOCUMENT_18 FLAG_DOCUMENT_19 FLAG_DOCUMENT_20 FLAG_DOCUMENT_21  \\\n",
       "0  ...                0                0                0                0   \n",
       "1  ...                0                0                0                0   \n",
       "2  ...                0                0                0                0   \n",
       "3  ...                0                0                0                0   \n",
       "4  ...                0                0                0                0   \n",
       "\n",
       "  AMT_REQ_CREDIT_BUREAU_HOUR  AMT_REQ_CREDIT_BUREAU_DAY  \\\n",
       "0                        0.0                        0.0   \n",
       "1                        0.0                        0.0   \n",
       "2                        0.0                        0.0   \n",
       "3                        0.0                        0.0   \n",
       "4                        NaN                        NaN   \n",
       "\n",
       "   AMT_REQ_CREDIT_BUREAU_WEEK  AMT_REQ_CREDIT_BUREAU_MON  \\\n",
       "0                         0.0                        0.0   \n",
       "1                         0.0                        0.0   \n",
       "2                         0.0                        0.0   \n",
       "3                         0.0                        0.0   \n",
       "4                         NaN                        NaN   \n",
       "\n",
       "   AMT_REQ_CREDIT_BUREAU_QRT  AMT_REQ_CREDIT_BUREAU_YEAR  \n",
       "0                        0.0                         0.0  \n",
       "1                        0.0                         3.0  \n",
       "2                        1.0                         4.0  \n",
       "3                        0.0                         3.0  \n",
       "4                        NaN                         NaN  \n",
       "\n",
       "[5 rows x 121 columns]"
      ]
     },
     "execution_count": 5,
     "metadata": {},
     "output_type": "execute_result"
    }
   ],
   "source": [
    "# viewing how the test_data look likes\n",
    "test_data.head()\n"
   ]
  },
  {
   "cell_type": "code",
   "execution_count": 6,
   "id": "1cf97181",
   "metadata": {},
   "outputs": [
    {
     "data": {
      "text/plain": [
       "(48744, 121)"
      ]
     },
     "execution_count": 6,
     "metadata": {},
     "output_type": "execute_result"
    }
   ],
   "source": [
    "# checking how many rows and columns does test_data set have\n",
    "test_data.shape"
   ]
  },
  {
   "cell_type": "markdown",
   "id": "58131669",
   "metadata": {},
   "source": [
    "application_train/application_test: These datasets contain information about each loan application at Home Credit. \n",
    "\n",
    "\"application_train.csv\",includes the TARGET variable.The TARGET column in the training data indicates whether the loan \n",
    "was repaid (0) or not repaid (1).\n",
    "\n",
    "\"application_test.csv\",excludes the TARGET variable."
   ]
  },
  {
   "cell_type": "markdown",
   "id": "27fac6e2",
   "metadata": {},
   "source": [
    "### Bureau dataset"
   ]
  },
  {
   "cell_type": "code",
   "execution_count": 7,
   "id": "f4368067",
   "metadata": {},
   "outputs": [],
   "source": [
    "#reading the data from csv and saving it to the bureau_data DataFrame\n",
    "bureau_data = pd.read_csv(\"C:\\\\Users\\\\u1448935\\\\Downloads\\\\MSBA_Capstone\\\\Data\\\\home-credit-default-risk\\\\bureau.csv\")"
   ]
  },
  {
   "cell_type": "code",
   "execution_count": 8,
   "id": "c0f855d4",
   "metadata": {},
   "outputs": [
    {
     "data": {
      "text/html": [
       "<div>\n",
       "<style scoped>\n",
       "    .dataframe tbody tr th:only-of-type {\n",
       "        vertical-align: middle;\n",
       "    }\n",
       "\n",
       "    .dataframe tbody tr th {\n",
       "        vertical-align: top;\n",
       "    }\n",
       "\n",
       "    .dataframe thead th {\n",
       "        text-align: right;\n",
       "    }\n",
       "</style>\n",
       "<table border=\"1\" class=\"dataframe\">\n",
       "  <thead>\n",
       "    <tr style=\"text-align: right;\">\n",
       "      <th></th>\n",
       "      <th>SK_ID_CURR</th>\n",
       "      <th>SK_ID_BUREAU</th>\n",
       "      <th>CREDIT_ACTIVE</th>\n",
       "      <th>CREDIT_CURRENCY</th>\n",
       "      <th>DAYS_CREDIT</th>\n",
       "      <th>CREDIT_DAY_OVERDUE</th>\n",
       "      <th>DAYS_CREDIT_ENDDATE</th>\n",
       "      <th>DAYS_ENDDATE_FACT</th>\n",
       "      <th>AMT_CREDIT_MAX_OVERDUE</th>\n",
       "      <th>CNT_CREDIT_PROLONG</th>\n",
       "      <th>AMT_CREDIT_SUM</th>\n",
       "      <th>AMT_CREDIT_SUM_DEBT</th>\n",
       "      <th>AMT_CREDIT_SUM_LIMIT</th>\n",
       "      <th>AMT_CREDIT_SUM_OVERDUE</th>\n",
       "      <th>CREDIT_TYPE</th>\n",
       "      <th>DAYS_CREDIT_UPDATE</th>\n",
       "      <th>AMT_ANNUITY</th>\n",
       "    </tr>\n",
       "  </thead>\n",
       "  <tbody>\n",
       "    <tr>\n",
       "      <th>0</th>\n",
       "      <td>215354</td>\n",
       "      <td>5714462</td>\n",
       "      <td>Closed</td>\n",
       "      <td>currency 1</td>\n",
       "      <td>-497</td>\n",
       "      <td>0</td>\n",
       "      <td>-153.0</td>\n",
       "      <td>-153.0</td>\n",
       "      <td>NaN</td>\n",
       "      <td>0</td>\n",
       "      <td>91323.0</td>\n",
       "      <td>0.0</td>\n",
       "      <td>NaN</td>\n",
       "      <td>0.0</td>\n",
       "      <td>Consumer credit</td>\n",
       "      <td>-131</td>\n",
       "      <td>NaN</td>\n",
       "    </tr>\n",
       "    <tr>\n",
       "      <th>1</th>\n",
       "      <td>215354</td>\n",
       "      <td>5714463</td>\n",
       "      <td>Active</td>\n",
       "      <td>currency 1</td>\n",
       "      <td>-208</td>\n",
       "      <td>0</td>\n",
       "      <td>1075.0</td>\n",
       "      <td>NaN</td>\n",
       "      <td>NaN</td>\n",
       "      <td>0</td>\n",
       "      <td>225000.0</td>\n",
       "      <td>171342.0</td>\n",
       "      <td>NaN</td>\n",
       "      <td>0.0</td>\n",
       "      <td>Credit card</td>\n",
       "      <td>-20</td>\n",
       "      <td>NaN</td>\n",
       "    </tr>\n",
       "    <tr>\n",
       "      <th>2</th>\n",
       "      <td>215354</td>\n",
       "      <td>5714464</td>\n",
       "      <td>Active</td>\n",
       "      <td>currency 1</td>\n",
       "      <td>-203</td>\n",
       "      <td>0</td>\n",
       "      <td>528.0</td>\n",
       "      <td>NaN</td>\n",
       "      <td>NaN</td>\n",
       "      <td>0</td>\n",
       "      <td>464323.5</td>\n",
       "      <td>NaN</td>\n",
       "      <td>NaN</td>\n",
       "      <td>0.0</td>\n",
       "      <td>Consumer credit</td>\n",
       "      <td>-16</td>\n",
       "      <td>NaN</td>\n",
       "    </tr>\n",
       "    <tr>\n",
       "      <th>3</th>\n",
       "      <td>215354</td>\n",
       "      <td>5714465</td>\n",
       "      <td>Active</td>\n",
       "      <td>currency 1</td>\n",
       "      <td>-203</td>\n",
       "      <td>0</td>\n",
       "      <td>NaN</td>\n",
       "      <td>NaN</td>\n",
       "      <td>NaN</td>\n",
       "      <td>0</td>\n",
       "      <td>90000.0</td>\n",
       "      <td>NaN</td>\n",
       "      <td>NaN</td>\n",
       "      <td>0.0</td>\n",
       "      <td>Credit card</td>\n",
       "      <td>-16</td>\n",
       "      <td>NaN</td>\n",
       "    </tr>\n",
       "    <tr>\n",
       "      <th>4</th>\n",
       "      <td>215354</td>\n",
       "      <td>5714466</td>\n",
       "      <td>Active</td>\n",
       "      <td>currency 1</td>\n",
       "      <td>-629</td>\n",
       "      <td>0</td>\n",
       "      <td>1197.0</td>\n",
       "      <td>NaN</td>\n",
       "      <td>77674.5</td>\n",
       "      <td>0</td>\n",
       "      <td>2700000.0</td>\n",
       "      <td>NaN</td>\n",
       "      <td>NaN</td>\n",
       "      <td>0.0</td>\n",
       "      <td>Consumer credit</td>\n",
       "      <td>-21</td>\n",
       "      <td>NaN</td>\n",
       "    </tr>\n",
       "  </tbody>\n",
       "</table>\n",
       "</div>"
      ],
      "text/plain": [
       "   SK_ID_CURR  SK_ID_BUREAU CREDIT_ACTIVE CREDIT_CURRENCY  DAYS_CREDIT  \\\n",
       "0      215354       5714462        Closed      currency 1         -497   \n",
       "1      215354       5714463        Active      currency 1         -208   \n",
       "2      215354       5714464        Active      currency 1         -203   \n",
       "3      215354       5714465        Active      currency 1         -203   \n",
       "4      215354       5714466        Active      currency 1         -629   \n",
       "\n",
       "   CREDIT_DAY_OVERDUE  DAYS_CREDIT_ENDDATE  DAYS_ENDDATE_FACT  \\\n",
       "0                   0               -153.0             -153.0   \n",
       "1                   0               1075.0                NaN   \n",
       "2                   0                528.0                NaN   \n",
       "3                   0                  NaN                NaN   \n",
       "4                   0               1197.0                NaN   \n",
       "\n",
       "   AMT_CREDIT_MAX_OVERDUE  CNT_CREDIT_PROLONG  AMT_CREDIT_SUM  \\\n",
       "0                     NaN                   0         91323.0   \n",
       "1                     NaN                   0        225000.0   \n",
       "2                     NaN                   0        464323.5   \n",
       "3                     NaN                   0         90000.0   \n",
       "4                 77674.5                   0       2700000.0   \n",
       "\n",
       "   AMT_CREDIT_SUM_DEBT  AMT_CREDIT_SUM_LIMIT  AMT_CREDIT_SUM_OVERDUE  \\\n",
       "0                  0.0                   NaN                     0.0   \n",
       "1             171342.0                   NaN                     0.0   \n",
       "2                  NaN                   NaN                     0.0   \n",
       "3                  NaN                   NaN                     0.0   \n",
       "4                  NaN                   NaN                     0.0   \n",
       "\n",
       "       CREDIT_TYPE  DAYS_CREDIT_UPDATE  AMT_ANNUITY  \n",
       "0  Consumer credit                -131          NaN  \n",
       "1      Credit card                 -20          NaN  \n",
       "2  Consumer credit                 -16          NaN  \n",
       "3      Credit card                 -16          NaN  \n",
       "4  Consumer credit                 -21          NaN  "
      ]
     },
     "execution_count": 8,
     "metadata": {},
     "output_type": "execute_result"
    }
   ],
   "source": [
    "# viewing how the bureau_data look likes\n",
    "bureau_data.head()"
   ]
  },
  {
   "cell_type": "code",
   "execution_count": 9,
   "id": "0fc4bb88",
   "metadata": {},
   "outputs": [
    {
     "data": {
      "text/plain": [
       "(1716428, 17)"
      ]
     },
     "execution_count": 9,
     "metadata": {},
     "output_type": "execute_result"
    }
   ],
   "source": [
    "# checking how many rows and columns does bureau_data set have\n",
    "bureau_data.shape"
   ]
  },
  {
   "cell_type": "markdown",
   "id": "30adb2fe",
   "metadata": {},
   "source": [
    "\"bureau.csv\" provides data on clients' previous credits reported to the Credit Bureau. It is specific to clients with loans in our dataset, with multiple rows for each loan, representing the client's prior credits from different financial institutions."
   ]
  },
  {
   "cell_type": "markdown",
   "id": "73f32bb8",
   "metadata": {},
   "source": [
    "### Bureau Balance dataset"
   ]
  },
  {
   "cell_type": "code",
   "execution_count": 10,
   "id": "63a390cb",
   "metadata": {},
   "outputs": [],
   "source": [
    "#reading the data from csv and saving it to the bureau_balance_data DataFrame\n",
    "bureau_balance_data = pd.read_csv(\"C:\\\\Users\\\\u1448935\\\\Downloads\\\\MSBA_Capstone\\\\Data\\\\home-credit-default-risk\\\\bureau_balance.csv\")"
   ]
  },
  {
   "cell_type": "code",
   "execution_count": 11,
   "id": "a1f9dbbc",
   "metadata": {},
   "outputs": [
    {
     "data": {
      "text/html": [
       "<div>\n",
       "<style scoped>\n",
       "    .dataframe tbody tr th:only-of-type {\n",
       "        vertical-align: middle;\n",
       "    }\n",
       "\n",
       "    .dataframe tbody tr th {\n",
       "        vertical-align: top;\n",
       "    }\n",
       "\n",
       "    .dataframe thead th {\n",
       "        text-align: right;\n",
       "    }\n",
       "</style>\n",
       "<table border=\"1\" class=\"dataframe\">\n",
       "  <thead>\n",
       "    <tr style=\"text-align: right;\">\n",
       "      <th></th>\n",
       "      <th>SK_ID_BUREAU</th>\n",
       "      <th>MONTHS_BALANCE</th>\n",
       "      <th>STATUS</th>\n",
       "    </tr>\n",
       "  </thead>\n",
       "  <tbody>\n",
       "    <tr>\n",
       "      <th>0</th>\n",
       "      <td>5715448</td>\n",
       "      <td>0</td>\n",
       "      <td>C</td>\n",
       "    </tr>\n",
       "    <tr>\n",
       "      <th>1</th>\n",
       "      <td>5715448</td>\n",
       "      <td>-1</td>\n",
       "      <td>C</td>\n",
       "    </tr>\n",
       "    <tr>\n",
       "      <th>2</th>\n",
       "      <td>5715448</td>\n",
       "      <td>-2</td>\n",
       "      <td>C</td>\n",
       "    </tr>\n",
       "    <tr>\n",
       "      <th>3</th>\n",
       "      <td>5715448</td>\n",
       "      <td>-3</td>\n",
       "      <td>C</td>\n",
       "    </tr>\n",
       "    <tr>\n",
       "      <th>4</th>\n",
       "      <td>5715448</td>\n",
       "      <td>-4</td>\n",
       "      <td>C</td>\n",
       "    </tr>\n",
       "  </tbody>\n",
       "</table>\n",
       "</div>"
      ],
      "text/plain": [
       "   SK_ID_BUREAU  MONTHS_BALANCE STATUS\n",
       "0       5715448               0      C\n",
       "1       5715448              -1      C\n",
       "2       5715448              -2      C\n",
       "3       5715448              -3      C\n",
       "4       5715448              -4      C"
      ]
     },
     "execution_count": 11,
     "metadata": {},
     "output_type": "execute_result"
    }
   ],
   "source": [
    "# viewing how the bureau_balance_data look likes\n",
    "bureau_balance_data.head()"
   ]
  },
  {
   "cell_type": "code",
   "execution_count": 12,
   "id": "ab86fcd8",
   "metadata": {},
   "outputs": [
    {
     "data": {
      "text/plain": [
       "(27299925, 3)"
      ]
     },
     "execution_count": 12,
     "metadata": {},
     "output_type": "execute_result"
    }
   ],
   "source": [
    "# checking how many rows and columns does bureau_balance_data set have\n",
    "bureau_balance_data.shape"
   ]
  },
  {
   "cell_type": "markdown",
   "id": "87653140",
   "metadata": {},
   "source": [
    "\"bureau_balance.csv\" records monthly credit balances reported to the Credit Bureau, with each row representing a specific month for each previous credit. "
   ]
  },
  {
   "cell_type": "markdown",
   "id": "98ade92e",
   "metadata": {},
   "source": [
    "###  Credit card balance dataset"
   ]
  },
  {
   "cell_type": "code",
   "execution_count": 13,
   "id": "8c21293a",
   "metadata": {},
   "outputs": [],
   "source": [
    "#reading the data from csv and saving it to the credit_balance_data DataFrame\n",
    "credit_balance_data = pd.read_csv(\"C:\\\\Users\\\\u1448935\\\\Downloads\\\\MSBA_Capstone\\\\Data\\\\home-credit-default-risk\\\\bureau_balance.csv\")"
   ]
  },
  {
   "cell_type": "code",
   "execution_count": 14,
   "id": "c7fb499a",
   "metadata": {},
   "outputs": [
    {
     "data": {
      "text/html": [
       "<div>\n",
       "<style scoped>\n",
       "    .dataframe tbody tr th:only-of-type {\n",
       "        vertical-align: middle;\n",
       "    }\n",
       "\n",
       "    .dataframe tbody tr th {\n",
       "        vertical-align: top;\n",
       "    }\n",
       "\n",
       "    .dataframe thead th {\n",
       "        text-align: right;\n",
       "    }\n",
       "</style>\n",
       "<table border=\"1\" class=\"dataframe\">\n",
       "  <thead>\n",
       "    <tr style=\"text-align: right;\">\n",
       "      <th></th>\n",
       "      <th>SK_ID_BUREAU</th>\n",
       "      <th>MONTHS_BALANCE</th>\n",
       "      <th>STATUS</th>\n",
       "    </tr>\n",
       "  </thead>\n",
       "  <tbody>\n",
       "    <tr>\n",
       "      <th>0</th>\n",
       "      <td>5715448</td>\n",
       "      <td>0</td>\n",
       "      <td>C</td>\n",
       "    </tr>\n",
       "    <tr>\n",
       "      <th>1</th>\n",
       "      <td>5715448</td>\n",
       "      <td>-1</td>\n",
       "      <td>C</td>\n",
       "    </tr>\n",
       "    <tr>\n",
       "      <th>2</th>\n",
       "      <td>5715448</td>\n",
       "      <td>-2</td>\n",
       "      <td>C</td>\n",
       "    </tr>\n",
       "    <tr>\n",
       "      <th>3</th>\n",
       "      <td>5715448</td>\n",
       "      <td>-3</td>\n",
       "      <td>C</td>\n",
       "    </tr>\n",
       "    <tr>\n",
       "      <th>4</th>\n",
       "      <td>5715448</td>\n",
       "      <td>-4</td>\n",
       "      <td>C</td>\n",
       "    </tr>\n",
       "  </tbody>\n",
       "</table>\n",
       "</div>"
      ],
      "text/plain": [
       "   SK_ID_BUREAU  MONTHS_BALANCE STATUS\n",
       "0       5715448               0      C\n",
       "1       5715448              -1      C\n",
       "2       5715448              -2      C\n",
       "3       5715448              -3      C\n",
       "4       5715448              -4      C"
      ]
     },
     "execution_count": 14,
     "metadata": {},
     "output_type": "execute_result"
    }
   ],
   "source": [
    "# viewing how the credit_balance_data look likes\n",
    "credit_balance_data.head()"
   ]
  },
  {
   "cell_type": "code",
   "execution_count": 15,
   "id": "879846ee",
   "metadata": {},
   "outputs": [
    {
     "data": {
      "text/plain": [
       "(27299925, 3)"
      ]
     },
     "execution_count": 15,
     "metadata": {},
     "output_type": "execute_result"
    }
   ],
   "source": [
    "# checking how many rows and columns does credit_balance_data set have\n",
    "credit_balance_data.shape"
   ]
  },
  {
   "cell_type": "markdown",
   "id": "396f4eb7",
   "metadata": {},
   "source": [
    "\"credit_card_balance.csv\" provides monthly reports of the balances associated with the applicant's prior credit cards held with Home Credit."
   ]
  },
  {
   "cell_type": "markdown",
   "id": "cd3a0ec8",
   "metadata": {},
   "source": [
    "### Installment Payment dataset"
   ]
  },
  {
   "cell_type": "code",
   "execution_count": 16,
   "id": "9bc3db72",
   "metadata": {},
   "outputs": [],
   "source": [
    "#reading the data from csv and saving it to the installment_payment_data  DataFrame\n",
    "installment_payment_data = pd.read_csv(\"C:\\\\Users\\\\u1448935\\\\Downloads\\\\MSBA_Capstone\\\\Data\\\\home-credit-default-risk\\\\installments_payments.csv\")"
   ]
  },
  {
   "cell_type": "code",
   "execution_count": 17,
   "id": "e69511ec",
   "metadata": {},
   "outputs": [
    {
     "data": {
      "text/html": [
       "<div>\n",
       "<style scoped>\n",
       "    .dataframe tbody tr th:only-of-type {\n",
       "        vertical-align: middle;\n",
       "    }\n",
       "\n",
       "    .dataframe tbody tr th {\n",
       "        vertical-align: top;\n",
       "    }\n",
       "\n",
       "    .dataframe thead th {\n",
       "        text-align: right;\n",
       "    }\n",
       "</style>\n",
       "<table border=\"1\" class=\"dataframe\">\n",
       "  <thead>\n",
       "    <tr style=\"text-align: right;\">\n",
       "      <th></th>\n",
       "      <th>SK_ID_PREV</th>\n",
       "      <th>SK_ID_CURR</th>\n",
       "      <th>NUM_INSTALMENT_VERSION</th>\n",
       "      <th>NUM_INSTALMENT_NUMBER</th>\n",
       "      <th>DAYS_INSTALMENT</th>\n",
       "      <th>DAYS_ENTRY_PAYMENT</th>\n",
       "      <th>AMT_INSTALMENT</th>\n",
       "      <th>AMT_PAYMENT</th>\n",
       "    </tr>\n",
       "  </thead>\n",
       "  <tbody>\n",
       "    <tr>\n",
       "      <th>0</th>\n",
       "      <td>1054186</td>\n",
       "      <td>161674</td>\n",
       "      <td>1.0</td>\n",
       "      <td>6</td>\n",
       "      <td>-1180.0</td>\n",
       "      <td>-1187.0</td>\n",
       "      <td>6948.360</td>\n",
       "      <td>6948.360</td>\n",
       "    </tr>\n",
       "    <tr>\n",
       "      <th>1</th>\n",
       "      <td>1330831</td>\n",
       "      <td>151639</td>\n",
       "      <td>0.0</td>\n",
       "      <td>34</td>\n",
       "      <td>-2156.0</td>\n",
       "      <td>-2156.0</td>\n",
       "      <td>1716.525</td>\n",
       "      <td>1716.525</td>\n",
       "    </tr>\n",
       "    <tr>\n",
       "      <th>2</th>\n",
       "      <td>2085231</td>\n",
       "      <td>193053</td>\n",
       "      <td>2.0</td>\n",
       "      <td>1</td>\n",
       "      <td>-63.0</td>\n",
       "      <td>-63.0</td>\n",
       "      <td>25425.000</td>\n",
       "      <td>25425.000</td>\n",
       "    </tr>\n",
       "    <tr>\n",
       "      <th>3</th>\n",
       "      <td>2452527</td>\n",
       "      <td>199697</td>\n",
       "      <td>1.0</td>\n",
       "      <td>3</td>\n",
       "      <td>-2418.0</td>\n",
       "      <td>-2426.0</td>\n",
       "      <td>24350.130</td>\n",
       "      <td>24350.130</td>\n",
       "    </tr>\n",
       "    <tr>\n",
       "      <th>4</th>\n",
       "      <td>2714724</td>\n",
       "      <td>167756</td>\n",
       "      <td>1.0</td>\n",
       "      <td>2</td>\n",
       "      <td>-1383.0</td>\n",
       "      <td>-1366.0</td>\n",
       "      <td>2165.040</td>\n",
       "      <td>2160.585</td>\n",
       "    </tr>\n",
       "  </tbody>\n",
       "</table>\n",
       "</div>"
      ],
      "text/plain": [
       "   SK_ID_PREV  SK_ID_CURR  NUM_INSTALMENT_VERSION  NUM_INSTALMENT_NUMBER  \\\n",
       "0     1054186      161674                     1.0                      6   \n",
       "1     1330831      151639                     0.0                     34   \n",
       "2     2085231      193053                     2.0                      1   \n",
       "3     2452527      199697                     1.0                      3   \n",
       "4     2714724      167756                     1.0                      2   \n",
       "\n",
       "   DAYS_INSTALMENT  DAYS_ENTRY_PAYMENT  AMT_INSTALMENT  AMT_PAYMENT  \n",
       "0          -1180.0             -1187.0        6948.360     6948.360  \n",
       "1          -2156.0             -2156.0        1716.525     1716.525  \n",
       "2            -63.0               -63.0       25425.000    25425.000  \n",
       "3          -2418.0             -2426.0       24350.130    24350.130  \n",
       "4          -1383.0             -1366.0        2165.040     2160.585  "
      ]
     },
     "execution_count": 17,
     "metadata": {},
     "output_type": "execute_result"
    }
   ],
   "source": [
    "# viewing how the installment_payment_data look likes\n",
    "installment_payment_data.head()"
   ]
  },
  {
   "cell_type": "code",
   "execution_count": 18,
   "id": "dbf4aa57",
   "metadata": {},
   "outputs": [
    {
     "data": {
      "text/plain": [
       "(13605401, 8)"
      ]
     },
     "execution_count": 18,
     "metadata": {},
     "output_type": "execute_result"
    }
   ],
   "source": [
    "# checking how many rows and columns does installment_payment_data set have\n",
    "installment_payment_data.shape"
   ]
  },
  {
   "cell_type": "markdown",
   "id": "0baa2a27",
   "metadata": {},
   "source": [
    "\"installments_payments.csv\" captures the repayment history for prior Home Credit loans related to our sample loans, with one row for each payment made or missed.\n",
    "\n",
    "\n",
    "\n",
    "\n",
    "\n"
   ]
  },
  {
   "cell_type": "markdown",
   "id": "34dddeba",
   "metadata": {},
   "source": [
    "### POS CASH balance dataset"
   ]
  },
  {
   "cell_type": "code",
   "execution_count": 19,
   "id": "8c2e3bc5",
   "metadata": {},
   "outputs": [],
   "source": [
    "#reading the data from csv and saving it to the  pos_cash_balance  DataFrame\n",
    "pos_cash_balance = pd.read_csv(\"C:\\\\Users\\\\u1448935\\\\Downloads\\\\MSBA_Capstone\\\\Data\\\\home-credit-default-risk\\\\pos_cash_balance.csv\")"
   ]
  },
  {
   "cell_type": "code",
   "execution_count": 20,
   "id": "d9a16d01",
   "metadata": {},
   "outputs": [
    {
     "data": {
      "text/html": [
       "<div>\n",
       "<style scoped>\n",
       "    .dataframe tbody tr th:only-of-type {\n",
       "        vertical-align: middle;\n",
       "    }\n",
       "\n",
       "    .dataframe tbody tr th {\n",
       "        vertical-align: top;\n",
       "    }\n",
       "\n",
       "    .dataframe thead th {\n",
       "        text-align: right;\n",
       "    }\n",
       "</style>\n",
       "<table border=\"1\" class=\"dataframe\">\n",
       "  <thead>\n",
       "    <tr style=\"text-align: right;\">\n",
       "      <th></th>\n",
       "      <th>SK_ID_PREV</th>\n",
       "      <th>SK_ID_CURR</th>\n",
       "      <th>MONTHS_BALANCE</th>\n",
       "      <th>CNT_INSTALMENT</th>\n",
       "      <th>CNT_INSTALMENT_FUTURE</th>\n",
       "      <th>NAME_CONTRACT_STATUS</th>\n",
       "      <th>SK_DPD</th>\n",
       "      <th>SK_DPD_DEF</th>\n",
       "    </tr>\n",
       "  </thead>\n",
       "  <tbody>\n",
       "    <tr>\n",
       "      <th>0</th>\n",
       "      <td>1803195</td>\n",
       "      <td>182943</td>\n",
       "      <td>-31</td>\n",
       "      <td>48.0</td>\n",
       "      <td>45.0</td>\n",
       "      <td>Active</td>\n",
       "      <td>0</td>\n",
       "      <td>0</td>\n",
       "    </tr>\n",
       "    <tr>\n",
       "      <th>1</th>\n",
       "      <td>1715348</td>\n",
       "      <td>367990</td>\n",
       "      <td>-33</td>\n",
       "      <td>36.0</td>\n",
       "      <td>35.0</td>\n",
       "      <td>Active</td>\n",
       "      <td>0</td>\n",
       "      <td>0</td>\n",
       "    </tr>\n",
       "    <tr>\n",
       "      <th>2</th>\n",
       "      <td>1784872</td>\n",
       "      <td>397406</td>\n",
       "      <td>-32</td>\n",
       "      <td>12.0</td>\n",
       "      <td>9.0</td>\n",
       "      <td>Active</td>\n",
       "      <td>0</td>\n",
       "      <td>0</td>\n",
       "    </tr>\n",
       "    <tr>\n",
       "      <th>3</th>\n",
       "      <td>1903291</td>\n",
       "      <td>269225</td>\n",
       "      <td>-35</td>\n",
       "      <td>48.0</td>\n",
       "      <td>42.0</td>\n",
       "      <td>Active</td>\n",
       "      <td>0</td>\n",
       "      <td>0</td>\n",
       "    </tr>\n",
       "    <tr>\n",
       "      <th>4</th>\n",
       "      <td>2341044</td>\n",
       "      <td>334279</td>\n",
       "      <td>-35</td>\n",
       "      <td>36.0</td>\n",
       "      <td>35.0</td>\n",
       "      <td>Active</td>\n",
       "      <td>0</td>\n",
       "      <td>0</td>\n",
       "    </tr>\n",
       "  </tbody>\n",
       "</table>\n",
       "</div>"
      ],
      "text/plain": [
       "   SK_ID_PREV  SK_ID_CURR  MONTHS_BALANCE  CNT_INSTALMENT  \\\n",
       "0     1803195      182943             -31            48.0   \n",
       "1     1715348      367990             -33            36.0   \n",
       "2     1784872      397406             -32            12.0   \n",
       "3     1903291      269225             -35            48.0   \n",
       "4     2341044      334279             -35            36.0   \n",
       "\n",
       "   CNT_INSTALMENT_FUTURE NAME_CONTRACT_STATUS  SK_DPD  SK_DPD_DEF  \n",
       "0                   45.0               Active       0           0  \n",
       "1                   35.0               Active       0           0  \n",
       "2                    9.0               Active       0           0  \n",
       "3                   42.0               Active       0           0  \n",
       "4                   35.0               Active       0           0  "
      ]
     },
     "execution_count": 20,
     "metadata": {},
     "output_type": "execute_result"
    }
   ],
   "source": [
    "# viewing how the pos_cash_balance look likes\n",
    "pos_cash_balance.head()"
   ]
  },
  {
   "cell_type": "code",
   "execution_count": 21,
   "id": "eb9125a7",
   "metadata": {},
   "outputs": [
    {
     "data": {
      "text/plain": [
       "(10001358, 8)"
      ]
     },
     "execution_count": 21,
     "metadata": {},
     "output_type": "execute_result"
    }
   ],
   "source": [
    "# checking how many rows and columns does pos_cash_balance set have\n",
    "pos_cash_balance.shape"
   ]
  },
  {
   "cell_type": "markdown",
   "id": "43228940",
   "metadata": {},
   "source": [
    "\n",
    "\"POS_CASH_balance.csv\" contains monthly snapshots of the applicant's prior point-of-sale (POS) and cash loans with Home Credit, with one row for each month of history for these previous credits related to loans in our dataset."
   ]
  },
  {
   "cell_type": "markdown",
   "id": "4e37497b",
   "metadata": {},
   "source": [
    "### Previous Application dataset"
   ]
  },
  {
   "cell_type": "code",
   "execution_count": 22,
   "id": "738a7daf",
   "metadata": {},
   "outputs": [],
   "source": [
    "#reading the data from csv and saving it to the  previous_application DataFrame\n",
    "previous_application = pd.read_csv(\"C:\\\\Users\\\\u1448935\\\\Downloads\\\\MSBA_Capstone\\\\Data\\\\home-credit-default-risk\\\\previous_application.csv\")"
   ]
  },
  {
   "cell_type": "code",
   "execution_count": 23,
   "id": "19685bf8",
   "metadata": {},
   "outputs": [
    {
     "data": {
      "text/html": [
       "<div>\n",
       "<style scoped>\n",
       "    .dataframe tbody tr th:only-of-type {\n",
       "        vertical-align: middle;\n",
       "    }\n",
       "\n",
       "    .dataframe tbody tr th {\n",
       "        vertical-align: top;\n",
       "    }\n",
       "\n",
       "    .dataframe thead th {\n",
       "        text-align: right;\n",
       "    }\n",
       "</style>\n",
       "<table border=\"1\" class=\"dataframe\">\n",
       "  <thead>\n",
       "    <tr style=\"text-align: right;\">\n",
       "      <th></th>\n",
       "      <th>SK_ID_PREV</th>\n",
       "      <th>SK_ID_CURR</th>\n",
       "      <th>NAME_CONTRACT_TYPE</th>\n",
       "      <th>AMT_ANNUITY</th>\n",
       "      <th>AMT_APPLICATION</th>\n",
       "      <th>AMT_CREDIT</th>\n",
       "      <th>AMT_DOWN_PAYMENT</th>\n",
       "      <th>AMT_GOODS_PRICE</th>\n",
       "      <th>WEEKDAY_APPR_PROCESS_START</th>\n",
       "      <th>HOUR_APPR_PROCESS_START</th>\n",
       "      <th>...</th>\n",
       "      <th>NAME_SELLER_INDUSTRY</th>\n",
       "      <th>CNT_PAYMENT</th>\n",
       "      <th>NAME_YIELD_GROUP</th>\n",
       "      <th>PRODUCT_COMBINATION</th>\n",
       "      <th>DAYS_FIRST_DRAWING</th>\n",
       "      <th>DAYS_FIRST_DUE</th>\n",
       "      <th>DAYS_LAST_DUE_1ST_VERSION</th>\n",
       "      <th>DAYS_LAST_DUE</th>\n",
       "      <th>DAYS_TERMINATION</th>\n",
       "      <th>NFLAG_INSURED_ON_APPROVAL</th>\n",
       "    </tr>\n",
       "  </thead>\n",
       "  <tbody>\n",
       "    <tr>\n",
       "      <th>0</th>\n",
       "      <td>2030495</td>\n",
       "      <td>271877</td>\n",
       "      <td>Consumer loans</td>\n",
       "      <td>1730.430</td>\n",
       "      <td>17145.0</td>\n",
       "      <td>17145.0</td>\n",
       "      <td>0.0</td>\n",
       "      <td>17145.0</td>\n",
       "      <td>SATURDAY</td>\n",
       "      <td>15</td>\n",
       "      <td>...</td>\n",
       "      <td>Connectivity</td>\n",
       "      <td>12.0</td>\n",
       "      <td>middle</td>\n",
       "      <td>POS mobile with interest</td>\n",
       "      <td>365243.0</td>\n",
       "      <td>-42.0</td>\n",
       "      <td>300.0</td>\n",
       "      <td>-42.0</td>\n",
       "      <td>-37.0</td>\n",
       "      <td>0.0</td>\n",
       "    </tr>\n",
       "    <tr>\n",
       "      <th>1</th>\n",
       "      <td>2802425</td>\n",
       "      <td>108129</td>\n",
       "      <td>Cash loans</td>\n",
       "      <td>25188.615</td>\n",
       "      <td>607500.0</td>\n",
       "      <td>679671.0</td>\n",
       "      <td>NaN</td>\n",
       "      <td>607500.0</td>\n",
       "      <td>THURSDAY</td>\n",
       "      <td>11</td>\n",
       "      <td>...</td>\n",
       "      <td>XNA</td>\n",
       "      <td>36.0</td>\n",
       "      <td>low_action</td>\n",
       "      <td>Cash X-Sell: low</td>\n",
       "      <td>365243.0</td>\n",
       "      <td>-134.0</td>\n",
       "      <td>916.0</td>\n",
       "      <td>365243.0</td>\n",
       "      <td>365243.0</td>\n",
       "      <td>1.0</td>\n",
       "    </tr>\n",
       "    <tr>\n",
       "      <th>2</th>\n",
       "      <td>2523466</td>\n",
       "      <td>122040</td>\n",
       "      <td>Cash loans</td>\n",
       "      <td>15060.735</td>\n",
       "      <td>112500.0</td>\n",
       "      <td>136444.5</td>\n",
       "      <td>NaN</td>\n",
       "      <td>112500.0</td>\n",
       "      <td>TUESDAY</td>\n",
       "      <td>11</td>\n",
       "      <td>...</td>\n",
       "      <td>XNA</td>\n",
       "      <td>12.0</td>\n",
       "      <td>high</td>\n",
       "      <td>Cash X-Sell: high</td>\n",
       "      <td>365243.0</td>\n",
       "      <td>-271.0</td>\n",
       "      <td>59.0</td>\n",
       "      <td>365243.0</td>\n",
       "      <td>365243.0</td>\n",
       "      <td>1.0</td>\n",
       "    </tr>\n",
       "    <tr>\n",
       "      <th>3</th>\n",
       "      <td>2819243</td>\n",
       "      <td>176158</td>\n",
       "      <td>Cash loans</td>\n",
       "      <td>47041.335</td>\n",
       "      <td>450000.0</td>\n",
       "      <td>470790.0</td>\n",
       "      <td>NaN</td>\n",
       "      <td>450000.0</td>\n",
       "      <td>MONDAY</td>\n",
       "      <td>7</td>\n",
       "      <td>...</td>\n",
       "      <td>XNA</td>\n",
       "      <td>12.0</td>\n",
       "      <td>middle</td>\n",
       "      <td>Cash X-Sell: middle</td>\n",
       "      <td>365243.0</td>\n",
       "      <td>-482.0</td>\n",
       "      <td>-152.0</td>\n",
       "      <td>-182.0</td>\n",
       "      <td>-177.0</td>\n",
       "      <td>1.0</td>\n",
       "    </tr>\n",
       "    <tr>\n",
       "      <th>4</th>\n",
       "      <td>1784265</td>\n",
       "      <td>202054</td>\n",
       "      <td>Cash loans</td>\n",
       "      <td>31924.395</td>\n",
       "      <td>337500.0</td>\n",
       "      <td>404055.0</td>\n",
       "      <td>NaN</td>\n",
       "      <td>337500.0</td>\n",
       "      <td>THURSDAY</td>\n",
       "      <td>9</td>\n",
       "      <td>...</td>\n",
       "      <td>XNA</td>\n",
       "      <td>24.0</td>\n",
       "      <td>high</td>\n",
       "      <td>Cash Street: high</td>\n",
       "      <td>NaN</td>\n",
       "      <td>NaN</td>\n",
       "      <td>NaN</td>\n",
       "      <td>NaN</td>\n",
       "      <td>NaN</td>\n",
       "      <td>NaN</td>\n",
       "    </tr>\n",
       "  </tbody>\n",
       "</table>\n",
       "<p>5 rows × 37 columns</p>\n",
       "</div>"
      ],
      "text/plain": [
       "   SK_ID_PREV  SK_ID_CURR NAME_CONTRACT_TYPE  AMT_ANNUITY  AMT_APPLICATION  \\\n",
       "0     2030495      271877     Consumer loans     1730.430          17145.0   \n",
       "1     2802425      108129         Cash loans    25188.615         607500.0   \n",
       "2     2523466      122040         Cash loans    15060.735         112500.0   \n",
       "3     2819243      176158         Cash loans    47041.335         450000.0   \n",
       "4     1784265      202054         Cash loans    31924.395         337500.0   \n",
       "\n",
       "   AMT_CREDIT  AMT_DOWN_PAYMENT  AMT_GOODS_PRICE WEEKDAY_APPR_PROCESS_START  \\\n",
       "0     17145.0               0.0          17145.0                   SATURDAY   \n",
       "1    679671.0               NaN         607500.0                   THURSDAY   \n",
       "2    136444.5               NaN         112500.0                    TUESDAY   \n",
       "3    470790.0               NaN         450000.0                     MONDAY   \n",
       "4    404055.0               NaN         337500.0                   THURSDAY   \n",
       "\n",
       "   HOUR_APPR_PROCESS_START  ... NAME_SELLER_INDUSTRY  CNT_PAYMENT  \\\n",
       "0                       15  ...         Connectivity         12.0   \n",
       "1                       11  ...                  XNA         36.0   \n",
       "2                       11  ...                  XNA         12.0   \n",
       "3                        7  ...                  XNA         12.0   \n",
       "4                        9  ...                  XNA         24.0   \n",
       "\n",
       "   NAME_YIELD_GROUP       PRODUCT_COMBINATION  DAYS_FIRST_DRAWING  \\\n",
       "0            middle  POS mobile with interest            365243.0   \n",
       "1        low_action          Cash X-Sell: low            365243.0   \n",
       "2              high         Cash X-Sell: high            365243.0   \n",
       "3            middle       Cash X-Sell: middle            365243.0   \n",
       "4              high         Cash Street: high                 NaN   \n",
       "\n",
       "  DAYS_FIRST_DUE DAYS_LAST_DUE_1ST_VERSION  DAYS_LAST_DUE DAYS_TERMINATION  \\\n",
       "0          -42.0                     300.0          -42.0            -37.0   \n",
       "1         -134.0                     916.0       365243.0         365243.0   \n",
       "2         -271.0                      59.0       365243.0         365243.0   \n",
       "3         -482.0                    -152.0         -182.0           -177.0   \n",
       "4            NaN                       NaN            NaN              NaN   \n",
       "\n",
       "  NFLAG_INSURED_ON_APPROVAL  \n",
       "0                       0.0  \n",
       "1                       1.0  \n",
       "2                       1.0  \n",
       "3                       1.0  \n",
       "4                       NaN  \n",
       "\n",
       "[5 rows x 37 columns]"
      ]
     },
     "execution_count": 23,
     "metadata": {},
     "output_type": "execute_result"
    }
   ],
   "source": [
    "# viewing how the previous_application look likes\n",
    "previous_application.head()"
   ]
  },
  {
   "cell_type": "code",
   "execution_count": 24,
   "id": "5f29ff61",
   "metadata": {},
   "outputs": [
    {
     "data": {
      "text/plain": [
       "(1670214, 37)"
      ]
     },
     "execution_count": 24,
     "metadata": {},
     "output_type": "execute_result"
    }
   ],
   "source": [
    "# checking how many rows and columns does previous_application set have\n",
    "previous_application.shape"
   ]
  },
  {
   "cell_type": "markdown",
   "id": "ba52cc43",
   "metadata": {},
   "source": [
    "\"previous_application.csv\" contains records of all prior loan applications made by clients who are included in our sample of loans."
   ]
  },
  {
   "cell_type": "markdown",
   "id": "697c4786",
   "metadata": {},
   "source": [
    "## 3. Investigating the Train dataset"
   ]
  },
  {
   "cell_type": "code",
   "execution_count": 25,
   "id": "723a9c0b",
   "metadata": {},
   "outputs": [
    {
     "data": {
      "text/plain": [
       "(307511, 122)"
      ]
     },
     "execution_count": 25,
     "metadata": {},
     "output_type": "execute_result"
    }
   ],
   "source": [
    "# Checking number of columns and rows in train dataset\n",
    "train_data.shape"
   ]
  },
  {
   "cell_type": "markdown",
   "id": "c14ca8a0",
   "metadata": {},
   "source": [
    "Train_data has 307511 rows and 122 columns"
   ]
  },
  {
   "cell_type": "code",
   "execution_count": 26,
   "id": "6f0facf9",
   "metadata": {},
   "outputs": [
    {
     "name": "stdout",
     "output_type": "stream",
     "text": [
      "<class 'pandas.core.frame.DataFrame'>\n",
      "RangeIndex: 307511 entries, 0 to 307510\n",
      "Columns: 122 entries, SK_ID_CURR to AMT_REQ_CREDIT_BUREAU_YEAR\n",
      "dtypes: float64(65), int64(41), object(16)\n",
      "memory usage: 286.2+ MB\n"
     ]
    }
   ],
   "source": [
    "# checking the train_data information\n",
    "train_data.info()\n"
   ]
  },
  {
   "cell_type": "code",
   "execution_count": 27,
   "id": "1dd7ffd0",
   "metadata": {},
   "outputs": [
    {
     "data": {
      "text/html": [
       "<div>\n",
       "<style scoped>\n",
       "    .dataframe tbody tr th:only-of-type {\n",
       "        vertical-align: middle;\n",
       "    }\n",
       "\n",
       "    .dataframe tbody tr th {\n",
       "        vertical-align: top;\n",
       "    }\n",
       "\n",
       "    .dataframe thead th {\n",
       "        text-align: right;\n",
       "    }\n",
       "</style>\n",
       "<table border=\"1\" class=\"dataframe\">\n",
       "  <thead>\n",
       "    <tr style=\"text-align: right;\">\n",
       "      <th></th>\n",
       "      <th>SK_ID_CURR</th>\n",
       "      <th>TARGET</th>\n",
       "      <th>CNT_CHILDREN</th>\n",
       "      <th>AMT_INCOME_TOTAL</th>\n",
       "      <th>AMT_CREDIT</th>\n",
       "      <th>AMT_ANNUITY</th>\n",
       "      <th>AMT_GOODS_PRICE</th>\n",
       "      <th>REGION_POPULATION_RELATIVE</th>\n",
       "      <th>DAYS_BIRTH</th>\n",
       "      <th>DAYS_EMPLOYED</th>\n",
       "      <th>...</th>\n",
       "      <th>FLAG_DOCUMENT_18</th>\n",
       "      <th>FLAG_DOCUMENT_19</th>\n",
       "      <th>FLAG_DOCUMENT_20</th>\n",
       "      <th>FLAG_DOCUMENT_21</th>\n",
       "      <th>AMT_REQ_CREDIT_BUREAU_HOUR</th>\n",
       "      <th>AMT_REQ_CREDIT_BUREAU_DAY</th>\n",
       "      <th>AMT_REQ_CREDIT_BUREAU_WEEK</th>\n",
       "      <th>AMT_REQ_CREDIT_BUREAU_MON</th>\n",
       "      <th>AMT_REQ_CREDIT_BUREAU_QRT</th>\n",
       "      <th>AMT_REQ_CREDIT_BUREAU_YEAR</th>\n",
       "    </tr>\n",
       "  </thead>\n",
       "  <tbody>\n",
       "    <tr>\n",
       "      <th>count</th>\n",
       "      <td>307511.000000</td>\n",
       "      <td>307511.000000</td>\n",
       "      <td>307511.000000</td>\n",
       "      <td>3.075110e+05</td>\n",
       "      <td>3.075110e+05</td>\n",
       "      <td>307499.000000</td>\n",
       "      <td>3.072330e+05</td>\n",
       "      <td>307511.000000</td>\n",
       "      <td>307511.000000</td>\n",
       "      <td>307511.000000</td>\n",
       "      <td>...</td>\n",
       "      <td>307511.000000</td>\n",
       "      <td>307511.000000</td>\n",
       "      <td>307511.000000</td>\n",
       "      <td>307511.000000</td>\n",
       "      <td>265992.000000</td>\n",
       "      <td>265992.000000</td>\n",
       "      <td>265992.000000</td>\n",
       "      <td>265992.000000</td>\n",
       "      <td>265992.000000</td>\n",
       "      <td>265992.000000</td>\n",
       "    </tr>\n",
       "    <tr>\n",
       "      <th>mean</th>\n",
       "      <td>278180.518577</td>\n",
       "      <td>0.080729</td>\n",
       "      <td>0.417052</td>\n",
       "      <td>1.687979e+05</td>\n",
       "      <td>5.990260e+05</td>\n",
       "      <td>27108.573909</td>\n",
       "      <td>5.383962e+05</td>\n",
       "      <td>0.020868</td>\n",
       "      <td>-16036.995067</td>\n",
       "      <td>63815.045904</td>\n",
       "      <td>...</td>\n",
       "      <td>0.008130</td>\n",
       "      <td>0.000595</td>\n",
       "      <td>0.000507</td>\n",
       "      <td>0.000335</td>\n",
       "      <td>0.006402</td>\n",
       "      <td>0.007000</td>\n",
       "      <td>0.034362</td>\n",
       "      <td>0.267395</td>\n",
       "      <td>0.265474</td>\n",
       "      <td>1.899974</td>\n",
       "    </tr>\n",
       "    <tr>\n",
       "      <th>std</th>\n",
       "      <td>102790.175348</td>\n",
       "      <td>0.272419</td>\n",
       "      <td>0.722121</td>\n",
       "      <td>2.371231e+05</td>\n",
       "      <td>4.024908e+05</td>\n",
       "      <td>14493.737315</td>\n",
       "      <td>3.694465e+05</td>\n",
       "      <td>0.013831</td>\n",
       "      <td>4363.988632</td>\n",
       "      <td>141275.766519</td>\n",
       "      <td>...</td>\n",
       "      <td>0.089798</td>\n",
       "      <td>0.024387</td>\n",
       "      <td>0.022518</td>\n",
       "      <td>0.018299</td>\n",
       "      <td>0.083849</td>\n",
       "      <td>0.110757</td>\n",
       "      <td>0.204685</td>\n",
       "      <td>0.916002</td>\n",
       "      <td>0.794056</td>\n",
       "      <td>1.869295</td>\n",
       "    </tr>\n",
       "    <tr>\n",
       "      <th>min</th>\n",
       "      <td>100002.000000</td>\n",
       "      <td>0.000000</td>\n",
       "      <td>0.000000</td>\n",
       "      <td>2.565000e+04</td>\n",
       "      <td>4.500000e+04</td>\n",
       "      <td>1615.500000</td>\n",
       "      <td>4.050000e+04</td>\n",
       "      <td>0.000290</td>\n",
       "      <td>-25229.000000</td>\n",
       "      <td>-17912.000000</td>\n",
       "      <td>...</td>\n",
       "      <td>0.000000</td>\n",
       "      <td>0.000000</td>\n",
       "      <td>0.000000</td>\n",
       "      <td>0.000000</td>\n",
       "      <td>0.000000</td>\n",
       "      <td>0.000000</td>\n",
       "      <td>0.000000</td>\n",
       "      <td>0.000000</td>\n",
       "      <td>0.000000</td>\n",
       "      <td>0.000000</td>\n",
       "    </tr>\n",
       "    <tr>\n",
       "      <th>25%</th>\n",
       "      <td>189145.500000</td>\n",
       "      <td>0.000000</td>\n",
       "      <td>0.000000</td>\n",
       "      <td>1.125000e+05</td>\n",
       "      <td>2.700000e+05</td>\n",
       "      <td>16524.000000</td>\n",
       "      <td>2.385000e+05</td>\n",
       "      <td>0.010006</td>\n",
       "      <td>-19682.000000</td>\n",
       "      <td>-2760.000000</td>\n",
       "      <td>...</td>\n",
       "      <td>0.000000</td>\n",
       "      <td>0.000000</td>\n",
       "      <td>0.000000</td>\n",
       "      <td>0.000000</td>\n",
       "      <td>0.000000</td>\n",
       "      <td>0.000000</td>\n",
       "      <td>0.000000</td>\n",
       "      <td>0.000000</td>\n",
       "      <td>0.000000</td>\n",
       "      <td>0.000000</td>\n",
       "    </tr>\n",
       "    <tr>\n",
       "      <th>50%</th>\n",
       "      <td>278202.000000</td>\n",
       "      <td>0.000000</td>\n",
       "      <td>0.000000</td>\n",
       "      <td>1.471500e+05</td>\n",
       "      <td>5.135310e+05</td>\n",
       "      <td>24903.000000</td>\n",
       "      <td>4.500000e+05</td>\n",
       "      <td>0.018850</td>\n",
       "      <td>-15750.000000</td>\n",
       "      <td>-1213.000000</td>\n",
       "      <td>...</td>\n",
       "      <td>0.000000</td>\n",
       "      <td>0.000000</td>\n",
       "      <td>0.000000</td>\n",
       "      <td>0.000000</td>\n",
       "      <td>0.000000</td>\n",
       "      <td>0.000000</td>\n",
       "      <td>0.000000</td>\n",
       "      <td>0.000000</td>\n",
       "      <td>0.000000</td>\n",
       "      <td>1.000000</td>\n",
       "    </tr>\n",
       "    <tr>\n",
       "      <th>75%</th>\n",
       "      <td>367142.500000</td>\n",
       "      <td>0.000000</td>\n",
       "      <td>1.000000</td>\n",
       "      <td>2.025000e+05</td>\n",
       "      <td>8.086500e+05</td>\n",
       "      <td>34596.000000</td>\n",
       "      <td>6.795000e+05</td>\n",
       "      <td>0.028663</td>\n",
       "      <td>-12413.000000</td>\n",
       "      <td>-289.000000</td>\n",
       "      <td>...</td>\n",
       "      <td>0.000000</td>\n",
       "      <td>0.000000</td>\n",
       "      <td>0.000000</td>\n",
       "      <td>0.000000</td>\n",
       "      <td>0.000000</td>\n",
       "      <td>0.000000</td>\n",
       "      <td>0.000000</td>\n",
       "      <td>0.000000</td>\n",
       "      <td>0.000000</td>\n",
       "      <td>3.000000</td>\n",
       "    </tr>\n",
       "    <tr>\n",
       "      <th>max</th>\n",
       "      <td>456255.000000</td>\n",
       "      <td>1.000000</td>\n",
       "      <td>19.000000</td>\n",
       "      <td>1.170000e+08</td>\n",
       "      <td>4.050000e+06</td>\n",
       "      <td>258025.500000</td>\n",
       "      <td>4.050000e+06</td>\n",
       "      <td>0.072508</td>\n",
       "      <td>-7489.000000</td>\n",
       "      <td>365243.000000</td>\n",
       "      <td>...</td>\n",
       "      <td>1.000000</td>\n",
       "      <td>1.000000</td>\n",
       "      <td>1.000000</td>\n",
       "      <td>1.000000</td>\n",
       "      <td>4.000000</td>\n",
       "      <td>9.000000</td>\n",
       "      <td>8.000000</td>\n",
       "      <td>27.000000</td>\n",
       "      <td>261.000000</td>\n",
       "      <td>25.000000</td>\n",
       "    </tr>\n",
       "  </tbody>\n",
       "</table>\n",
       "<p>8 rows × 106 columns</p>\n",
       "</div>"
      ],
      "text/plain": [
       "          SK_ID_CURR         TARGET   CNT_CHILDREN  AMT_INCOME_TOTAL  \\\n",
       "count  307511.000000  307511.000000  307511.000000      3.075110e+05   \n",
       "mean   278180.518577       0.080729       0.417052      1.687979e+05   \n",
       "std    102790.175348       0.272419       0.722121      2.371231e+05   \n",
       "min    100002.000000       0.000000       0.000000      2.565000e+04   \n",
       "25%    189145.500000       0.000000       0.000000      1.125000e+05   \n",
       "50%    278202.000000       0.000000       0.000000      1.471500e+05   \n",
       "75%    367142.500000       0.000000       1.000000      2.025000e+05   \n",
       "max    456255.000000       1.000000      19.000000      1.170000e+08   \n",
       "\n",
       "         AMT_CREDIT    AMT_ANNUITY  AMT_GOODS_PRICE  \\\n",
       "count  3.075110e+05  307499.000000     3.072330e+05   \n",
       "mean   5.990260e+05   27108.573909     5.383962e+05   \n",
       "std    4.024908e+05   14493.737315     3.694465e+05   \n",
       "min    4.500000e+04    1615.500000     4.050000e+04   \n",
       "25%    2.700000e+05   16524.000000     2.385000e+05   \n",
       "50%    5.135310e+05   24903.000000     4.500000e+05   \n",
       "75%    8.086500e+05   34596.000000     6.795000e+05   \n",
       "max    4.050000e+06  258025.500000     4.050000e+06   \n",
       "\n",
       "       REGION_POPULATION_RELATIVE     DAYS_BIRTH  DAYS_EMPLOYED  ...  \\\n",
       "count               307511.000000  307511.000000  307511.000000  ...   \n",
       "mean                     0.020868  -16036.995067   63815.045904  ...   \n",
       "std                      0.013831    4363.988632  141275.766519  ...   \n",
       "min                      0.000290  -25229.000000  -17912.000000  ...   \n",
       "25%                      0.010006  -19682.000000   -2760.000000  ...   \n",
       "50%                      0.018850  -15750.000000   -1213.000000  ...   \n",
       "75%                      0.028663  -12413.000000    -289.000000  ...   \n",
       "max                      0.072508   -7489.000000  365243.000000  ...   \n",
       "\n",
       "       FLAG_DOCUMENT_18  FLAG_DOCUMENT_19  FLAG_DOCUMENT_20  FLAG_DOCUMENT_21  \\\n",
       "count     307511.000000     307511.000000     307511.000000     307511.000000   \n",
       "mean           0.008130          0.000595          0.000507          0.000335   \n",
       "std            0.089798          0.024387          0.022518          0.018299   \n",
       "min            0.000000          0.000000          0.000000          0.000000   \n",
       "25%            0.000000          0.000000          0.000000          0.000000   \n",
       "50%            0.000000          0.000000          0.000000          0.000000   \n",
       "75%            0.000000          0.000000          0.000000          0.000000   \n",
       "max            1.000000          1.000000          1.000000          1.000000   \n",
       "\n",
       "       AMT_REQ_CREDIT_BUREAU_HOUR  AMT_REQ_CREDIT_BUREAU_DAY  \\\n",
       "count               265992.000000              265992.000000   \n",
       "mean                     0.006402                   0.007000   \n",
       "std                      0.083849                   0.110757   \n",
       "min                      0.000000                   0.000000   \n",
       "25%                      0.000000                   0.000000   \n",
       "50%                      0.000000                   0.000000   \n",
       "75%                      0.000000                   0.000000   \n",
       "max                      4.000000                   9.000000   \n",
       "\n",
       "       AMT_REQ_CREDIT_BUREAU_WEEK  AMT_REQ_CREDIT_BUREAU_MON  \\\n",
       "count               265992.000000              265992.000000   \n",
       "mean                     0.034362                   0.267395   \n",
       "std                      0.204685                   0.916002   \n",
       "min                      0.000000                   0.000000   \n",
       "25%                      0.000000                   0.000000   \n",
       "50%                      0.000000                   0.000000   \n",
       "75%                      0.000000                   0.000000   \n",
       "max                      8.000000                  27.000000   \n",
       "\n",
       "       AMT_REQ_CREDIT_BUREAU_QRT  AMT_REQ_CREDIT_BUREAU_YEAR  \n",
       "count              265992.000000               265992.000000  \n",
       "mean                    0.265474                    1.899974  \n",
       "std                     0.794056                    1.869295  \n",
       "min                     0.000000                    0.000000  \n",
       "25%                     0.000000                    0.000000  \n",
       "50%                     0.000000                    1.000000  \n",
       "75%                     0.000000                    3.000000  \n",
       "max                   261.000000                   25.000000  \n",
       "\n",
       "[8 rows x 106 columns]"
      ]
     },
     "execution_count": 27,
     "metadata": {},
     "output_type": "execute_result"
    }
   ],
   "source": [
    "#summary statistics of train_data\n",
    "train_data.describe()"
   ]
  },
  {
   "cell_type": "code",
   "execution_count": 28,
   "id": "dfa4e7b7",
   "metadata": {},
   "outputs": [
    {
     "data": {
      "text/plain": [
       "array(['SK_ID_CURR', 'TARGET', 'NAME_CONTRACT_TYPE', 'CODE_GENDER',\n",
       "       'FLAG_OWN_CAR', 'FLAG_OWN_REALTY', 'CNT_CHILDREN',\n",
       "       'AMT_INCOME_TOTAL', 'AMT_CREDIT', 'AMT_ANNUITY', 'AMT_GOODS_PRICE',\n",
       "       'NAME_TYPE_SUITE', 'NAME_INCOME_TYPE', 'NAME_EDUCATION_TYPE',\n",
       "       'NAME_FAMILY_STATUS', 'NAME_HOUSING_TYPE',\n",
       "       'REGION_POPULATION_RELATIVE', 'DAYS_BIRTH', 'DAYS_EMPLOYED',\n",
       "       'DAYS_REGISTRATION', 'DAYS_ID_PUBLISH', 'OWN_CAR_AGE',\n",
       "       'FLAG_MOBIL', 'FLAG_EMP_PHONE', 'FLAG_WORK_PHONE',\n",
       "       'FLAG_CONT_MOBILE', 'FLAG_PHONE', 'FLAG_EMAIL', 'OCCUPATION_TYPE',\n",
       "       'CNT_FAM_MEMBERS', 'REGION_RATING_CLIENT',\n",
       "       'REGION_RATING_CLIENT_W_CITY', 'WEEKDAY_APPR_PROCESS_START',\n",
       "       'HOUR_APPR_PROCESS_START', 'REG_REGION_NOT_LIVE_REGION',\n",
       "       'REG_REGION_NOT_WORK_REGION', 'LIVE_REGION_NOT_WORK_REGION',\n",
       "       'REG_CITY_NOT_LIVE_CITY', 'REG_CITY_NOT_WORK_CITY',\n",
       "       'LIVE_CITY_NOT_WORK_CITY', 'ORGANIZATION_TYPE', 'EXT_SOURCE_1',\n",
       "       'EXT_SOURCE_2', 'EXT_SOURCE_3', 'APARTMENTS_AVG',\n",
       "       'BASEMENTAREA_AVG', 'YEARS_BEGINEXPLUATATION_AVG',\n",
       "       'YEARS_BUILD_AVG', 'COMMONAREA_AVG', 'ELEVATORS_AVG',\n",
       "       'ENTRANCES_AVG', 'FLOORSMAX_AVG', 'FLOORSMIN_AVG', 'LANDAREA_AVG',\n",
       "       'LIVINGAPARTMENTS_AVG', 'LIVINGAREA_AVG',\n",
       "       'NONLIVINGAPARTMENTS_AVG', 'NONLIVINGAREA_AVG', 'APARTMENTS_MODE',\n",
       "       'BASEMENTAREA_MODE', 'YEARS_BEGINEXPLUATATION_MODE',\n",
       "       'YEARS_BUILD_MODE', 'COMMONAREA_MODE', 'ELEVATORS_MODE',\n",
       "       'ENTRANCES_MODE', 'FLOORSMAX_MODE', 'FLOORSMIN_MODE',\n",
       "       'LANDAREA_MODE', 'LIVINGAPARTMENTS_MODE', 'LIVINGAREA_MODE',\n",
       "       'NONLIVINGAPARTMENTS_MODE', 'NONLIVINGAREA_MODE',\n",
       "       'APARTMENTS_MEDI', 'BASEMENTAREA_MEDI',\n",
       "       'YEARS_BEGINEXPLUATATION_MEDI', 'YEARS_BUILD_MEDI',\n",
       "       'COMMONAREA_MEDI', 'ELEVATORS_MEDI', 'ENTRANCES_MEDI',\n",
       "       'FLOORSMAX_MEDI', 'FLOORSMIN_MEDI', 'LANDAREA_MEDI',\n",
       "       'LIVINGAPARTMENTS_MEDI', 'LIVINGAREA_MEDI',\n",
       "       'NONLIVINGAPARTMENTS_MEDI', 'NONLIVINGAREA_MEDI',\n",
       "       'FONDKAPREMONT_MODE', 'HOUSETYPE_MODE', 'TOTALAREA_MODE',\n",
       "       'WALLSMATERIAL_MODE', 'EMERGENCYSTATE_MODE',\n",
       "       'OBS_30_CNT_SOCIAL_CIRCLE', 'DEF_30_CNT_SOCIAL_CIRCLE',\n",
       "       'OBS_60_CNT_SOCIAL_CIRCLE', 'DEF_60_CNT_SOCIAL_CIRCLE',\n",
       "       'DAYS_LAST_PHONE_CHANGE', 'FLAG_DOCUMENT_2', 'FLAG_DOCUMENT_3',\n",
       "       'FLAG_DOCUMENT_4', 'FLAG_DOCUMENT_5', 'FLAG_DOCUMENT_6',\n",
       "       'FLAG_DOCUMENT_7', 'FLAG_DOCUMENT_8', 'FLAG_DOCUMENT_9',\n",
       "       'FLAG_DOCUMENT_10', 'FLAG_DOCUMENT_11', 'FLAG_DOCUMENT_12',\n",
       "       'FLAG_DOCUMENT_13', 'FLAG_DOCUMENT_14', 'FLAG_DOCUMENT_15',\n",
       "       'FLAG_DOCUMENT_16', 'FLAG_DOCUMENT_17', 'FLAG_DOCUMENT_18',\n",
       "       'FLAG_DOCUMENT_19', 'FLAG_DOCUMENT_20', 'FLAG_DOCUMENT_21',\n",
       "       'AMT_REQ_CREDIT_BUREAU_HOUR', 'AMT_REQ_CREDIT_BUREAU_DAY',\n",
       "       'AMT_REQ_CREDIT_BUREAU_WEEK', 'AMT_REQ_CREDIT_BUREAU_MON',\n",
       "       'AMT_REQ_CREDIT_BUREAU_QRT', 'AMT_REQ_CREDIT_BUREAU_YEAR'],\n",
       "      dtype=object)"
      ]
     },
     "execution_count": 28,
     "metadata": {},
     "output_type": "execute_result"
    }
   ],
   "source": [
    "train_data.columns.values"
   ]
  },
  {
   "cell_type": "markdown",
   "id": "d51c778f",
   "metadata": {},
   "source": [
    "### Column types"
   ]
  },
  {
   "cell_type": "code",
   "execution_count": 29,
   "id": "cc4debd2",
   "metadata": {},
   "outputs": [
    {
     "data": {
      "text/plain": [
       "float64    65\n",
       "int64      41\n",
       "object     16\n",
       "dtype: int64"
      ]
     },
     "execution_count": 29,
     "metadata": {},
     "output_type": "execute_result"
    }
   ],
   "source": [
    "# Number of each type of column\n",
    "train_data.dtypes.value_counts()"
   ]
  },
  {
   "cell_type": "markdown",
   "id": "28935b7b",
   "metadata": {},
   "source": [
    "Train dataset have columns with float,int,object datatypes.\n",
    "\n",
    "int64 and float64 are numeric variables which can correspond to discrete or continuous features. Whereas object columns contain strings and are categorical features."
   ]
  },
  {
   "cell_type": "code",
   "execution_count": 30,
   "id": "e4174f3f",
   "metadata": {},
   "outputs": [
    {
     "data": {
      "text/plain": [
       "NAME_CONTRACT_TYPE             2\n",
       "CODE_GENDER                    3\n",
       "FLAG_OWN_CAR                   2\n",
       "FLAG_OWN_REALTY                2\n",
       "NAME_TYPE_SUITE                7\n",
       "NAME_INCOME_TYPE               8\n",
       "NAME_EDUCATION_TYPE            5\n",
       "NAME_FAMILY_STATUS             6\n",
       "NAME_HOUSING_TYPE              6\n",
       "OCCUPATION_TYPE               18\n",
       "WEEKDAY_APPR_PROCESS_START     7\n",
       "ORGANIZATION_TYPE             58\n",
       "FONDKAPREMONT_MODE             4\n",
       "HOUSETYPE_MODE                 3\n",
       "WALLSMATERIAL_MODE             7\n",
       "EMERGENCYSTATE_MODE            2\n",
       "dtype: int64"
      ]
     },
     "execution_count": 30,
     "metadata": {},
     "output_type": "execute_result"
    }
   ],
   "source": [
    "# Number of unique classes in each object column\n",
    "train_data.select_dtypes('object').apply(pd.Series.nunique, axis=0)\n"
   ]
  },
  {
   "cell_type": "markdown",
   "id": "3f786c3f",
   "metadata": {},
   "source": [
    "## 4. Distribution of Target Variable"
   ]
  },
  {
   "cell_type": "code",
   "execution_count": 31,
   "id": "4b861333",
   "metadata": {},
   "outputs": [
    {
     "data": {
      "text/plain": [
       "0    282686\n",
       "1     24825\n",
       "Name: TARGET, dtype: int64"
      ]
     },
     "execution_count": 31,
     "metadata": {},
     "output_type": "execute_result"
    }
   ],
   "source": [
    "#  checking the count of target variable \n",
    "train_data.TARGET.value_counts()"
   ]
  },
  {
   "cell_type": "markdown",
   "id": "e42dec99",
   "metadata": {},
   "source": [
    "0 indicates client with No Payment difficulties\n",
    "1 indicates client with Payment difficulties"
   ]
  },
  {
   "cell_type": "code",
   "execution_count": 32,
   "id": "018a1635",
   "metadata": {},
   "outputs": [
    {
     "data": {
      "text/plain": [
       "0    0.919271\n",
       "1    0.080729\n",
       "Name: TARGET, dtype: float64"
      ]
     },
     "execution_count": 32,
     "metadata": {},
     "output_type": "execute_result"
    }
   ],
   "source": [
    "# standarizing the target variable \n",
    "target_counts = train_data['TARGET'].value_counts(normalize= True)\n",
    "target_counts"
   ]
  },
  {
   "cell_type": "code",
   "execution_count": 33,
   "id": "07ce46f4",
   "metadata": {},
   "outputs": [
    {
     "name": "stdout",
     "output_type": "stream",
     "text": [
      "percentage of clients with payment difficulties: 8.07%\n"
     ]
    }
   ],
   "source": [
    "print(f'percentage of clients with payment difficulties: {train_data.TARGET.sum() / train_data.shape[0] * 100 :.2f}%')\n"
   ]
  },
  {
   "cell_type": "code",
   "execution_count": 34,
   "id": "662365c0",
   "metadata": {},
   "outputs": [
    {
     "name": "stdout",
     "output_type": "stream",
     "text": [
      "Majority Class: 0\n",
      "Accuracy: 0.9192711805431351\n"
     ]
    }
   ],
   "source": [
    "## Calculate the majority class\n",
    "majority_class = train_data['TARGET'].value_counts().idxmax()\n",
    "\n",
    "# Calculate accuracy by counting the number of instances where the predicted class matches the actual class\n",
    "correct_predictions = (train_data['TARGET'] == majority_class).sum()\n",
    "total_instances = len(train_data)\n",
    "accuracy = correct_predictions / total_instances\n",
    "\n",
    "# Print the majority class and accuracy\n",
    "\n",
    "print(\"Majority Class:\", majority_class)\n",
    "print(\"Accuracy:\", accuracy)"
   ]
  },
  {
   "cell_type": "markdown",
   "id": "56eb30dc",
   "metadata": {},
   "source": [
    "### \"How are the target labels distributed? Did the majority of people return on time?\"\n",
    "\n",
    "\n",
    "\n",
    "\n"
   ]
  },
  {
   "cell_type": "code",
   "execution_count": 35,
   "id": "ca0c255b",
   "metadata": {},
   "outputs": [
    {
     "data": {
      "image/png": "[encoded data removed]",
      "text/plain": [
       "<Figure size 800x600 with 1 Axes>"
      ]
     },
     "metadata": {},
     "output_type": "display_data"
    }
   ],
   "source": [
    "#plotting to know the distribution of the target variable\n",
    "\n",
    "# Create a count plot\n",
    "sns.set(style=\"whitegrid\")  # Set the plot style\n",
    "plt.figure(figsize=(8, 6))  # Set the figure size\n",
    "\n",
    "# Create the count plot\n",
    "sns.countplot(x='TARGET', data=train_data)\n",
    "\n",
    "# Add labels and title\n",
    "plt.xlabel('Target ')\n",
    "plt.ylabel('Count')\n",
    "plt.title('Distribution of Target Variable')\n",
    "\n",
    "# Show the plot\n",
    "\n",
    "plt.show()\n"
   ]
  },
  {
   "cell_type": "markdown",
   "id": "a56fe91d",
   "metadata": {},
   "source": [
    "The target in the data is imbalanced as the graph shows that there are a lot more loans that were paid back compared to loans that weren't. To make our predictions better, we should pay extra attention to the loans that weren't paid back, like giving them more importance."
   ]
  },
  {
   "cell_type": "markdown",
   "id": "07e17764",
   "metadata": {},
   "source": [
    "## 5. EDA"
   ]
  },
  {
   "cell_type": "markdown",
   "id": "bcff1df5",
   "metadata": {},
   "source": [
    "## Exploring by  Categorial type\n"
   ]
  },
  {
   "cell_type": "markdown",
   "id": "13f7ed9f",
   "metadata": {},
   "source": [
    "### Which gender, Female or Male, faces more difficulties in repaying the loan?"
   ]
  },
  {
   "cell_type": "code",
   "execution_count": 36,
   "id": "0d45fa05",
   "metadata": {},
   "outputs": [
    {
     "name": "stdout",
     "output_type": "stream",
     "text": [
      "F      202448\n",
      "M      105059\n",
      "XNA         4\n",
      "Name: CODE_GENDER, dtype: int64\n"
     ]
    }
   ],
   "source": [
    "# checking the count  of Code_gender variable \n",
    "code_gender_count = train_data['CODE_GENDER'].value_counts()\n",
    "print(code_gender_count)\n"
   ]
  },
  {
   "cell_type": "code",
   "execution_count": 37,
   "id": "88260f65",
   "metadata": {},
   "outputs": [
    {
     "data": {
      "image/png": "[encoded data removed]",
      "text/plain": [
       "<Figure size 800x600 with 1 Axes>"
      ]
     },
     "metadata": {},
     "output_type": "display_data"
    }
   ],
   "source": [
    "# Create a stacked bar plot\n",
    "sns.set(style=\"whitegrid\")\n",
    "plt.figure(figsize=(8, 6))\n",
    "\n",
    "sns.countplot(x='TARGET', hue='CODE_GENDER', data=train_data, palette='Set2')\n",
    "\n",
    "# Add labels and title\n",
    "plt.xlabel('Target ')\n",
    "plt.ylabel('Count')\n",
    "plt.title('Clients Repayment Abilities By Gender')\n",
    "\n",
    "# Show the plot\n",
    "plt.legend(title='CODE_GENDER')\n",
    "plt.xticks(rotation=0)\n",
    "plt.show()"
   ]
  },
  {
   "cell_type": "markdown",
   "id": "d2c494fd",
   "metadata": {},
   "source": [
    "There are nearly twice as many female clients as male clients. However, when we check how often loans are not paid back, it turns out that males are more likely to not return their loans."
   ]
  },
  {
   "cell_type": "markdown",
   "id": "c43b0f77",
   "metadata": {},
   "source": [
    "### How do clients repayment abilities differ between cash loans and revolving loans?"
   ]
  },
  {
   "cell_type": "code",
   "execution_count": 38,
   "id": "0ad9a424",
   "metadata": {},
   "outputs": [
    {
     "name": "stdout",
     "output_type": "stream",
     "text": [
      "Cash loans         278232\n",
      "Revolving loans     29279\n",
      "Name: NAME_CONTRACT_TYPE, dtype: int64\n"
     ]
    }
   ],
   "source": [
    "# checking the count  of 'NAME_CONTRACT_TYPE' variable \n",
    "name_contract_type_count = train_data['NAME_CONTRACT_TYPE'].value_counts()\n",
    "print(name_contract_type_count)"
   ]
  },
  {
   "cell_type": "code",
   "execution_count": 39,
   "id": "6e8aeb15",
   "metadata": {},
   "outputs": [
    {
     "name": "stdout",
     "output_type": "stream",
     "text": [
      "Clients Repayment Abilities By Contract Type\n"
     ]
    },
    {
     "data": {
      "text/html": [
       "<style type=\"text/css\">\n",
       "#T_8d25c_row0_col1, #T_8d25c_row2_col1, #T_8d25c_row3_col2 {\n",
       "  background-color: #f7fbff;\n",
       "  color: #000000;\n",
       "}\n",
       "#T_8d25c_row0_col2, #T_8d25c_row1_col1, #T_8d25c_row3_col1 {\n",
       "  background-color: #08306b;\n",
       "  color: #f1f1f1;\n",
       "}\n",
       "#T_8d25c_row1_col2 {\n",
       "  background-color: #e7f0fa;\n",
       "  color: #000000;\n",
       "}\n",
       "#T_8d25c_row2_col2 {\n",
       "  background-color: #e3eef8;\n",
       "  color: #000000;\n",
       "}\n",
       "</style>\n",
       "<table id=\"T_8d25c\">\n",
       "  <thead>\n",
       "    <tr>\n",
       "      <th class=\"blank level0\" >&nbsp;</th>\n",
       "      <th id=\"T_8d25c_level0_col0\" class=\"col_heading level0 col0\" >NAME_CONTRACT_TYPE</th>\n",
       "      <th id=\"T_8d25c_level0_col1\" class=\"col_heading level0 col1\" >TARGET</th>\n",
       "      <th id=\"T_8d25c_level0_col2\" class=\"col_heading level0 col2\" >SK_ID_CURR</th>\n",
       "    </tr>\n",
       "  </thead>\n",
       "  <tbody>\n",
       "    <tr>\n",
       "      <th id=\"T_8d25c_level0_row0\" class=\"row_heading level0 row0\" >0</th>\n",
       "      <td id=\"T_8d25c_row0_col0\" class=\"data row0 col0\" >Cash loans</td>\n",
       "      <td id=\"T_8d25c_row0_col1\" class=\"data row0 col1\" >0</td>\n",
       "      <td id=\"T_8d25c_row0_col2\" class=\"data row0 col2\" >255011</td>\n",
       "    </tr>\n",
       "    <tr>\n",
       "      <th id=\"T_8d25c_level0_row1\" class=\"row_heading level0 row1\" >1</th>\n",
       "      <td id=\"T_8d25c_row1_col0\" class=\"data row1 col0\" >Cash loans</td>\n",
       "      <td id=\"T_8d25c_row1_col1\" class=\"data row1 col1\" >1</td>\n",
       "      <td id=\"T_8d25c_row1_col2\" class=\"data row1 col2\" >23221</td>\n",
       "    </tr>\n",
       "    <tr>\n",
       "      <th id=\"T_8d25c_level0_row2\" class=\"row_heading level0 row2\" >2</th>\n",
       "      <td id=\"T_8d25c_row2_col0\" class=\"data row2 col0\" >Revolving loans</td>\n",
       "      <td id=\"T_8d25c_row2_col1\" class=\"data row2 col1\" >0</td>\n",
       "      <td id=\"T_8d25c_row2_col2\" class=\"data row2 col2\" >27675</td>\n",
       "    </tr>\n",
       "    <tr>\n",
       "      <th id=\"T_8d25c_level0_row3\" class=\"row_heading level0 row3\" >3</th>\n",
       "      <td id=\"T_8d25c_row3_col0\" class=\"data row3 col0\" >Revolving loans</td>\n",
       "      <td id=\"T_8d25c_row3_col1\" class=\"data row3 col1\" >1</td>\n",
       "      <td id=\"T_8d25c_row3_col2\" class=\"data row3 col2\" >1604</td>\n",
       "    </tr>\n",
       "  </tbody>\n",
       "</table>\n"
      ],
      "text/plain": [
       "<pandas.io.formats.style.Styler at 0x24a92818d90>"
      ]
     },
     "execution_count": 39,
     "metadata": {},
     "output_type": "execute_result"
    }
   ],
   "source": [
    "#Clients Repayment Abilities By Contract Type\n",
    "ct = train_data.groupby(by=['NAME_CONTRACT_TYPE','TARGET'], as_index=False)['SK_ID_CURR'].count()\n",
    "print('Clients Repayment Abilities By Contract Type')\n",
    "ct.sort_values(by='SK_ID_CURR', ascending=False)\n",
    "ct.style.background_gradient(cmap='Blues')"
   ]
  },
  {
   "cell_type": "code",
   "execution_count": 40,
   "id": "46ad0d90",
   "metadata": {},
   "outputs": [
    {
     "data": {
      "image/png": "[encoded data removed]",
      "text/plain": [
       "<Figure size 800x600 with 1 Axes>"
      ]
     },
     "metadata": {},
     "output_type": "display_data"
    }
   ],
   "source": [
    "# Create a stacked bar plot\n",
    "sns.set(style=\"whitegrid\")\n",
    "plt.figure(figsize=(8, 6))\n",
    "\n",
    "sns.countplot(x='TARGET', hue='NAME_CONTRACT_TYPE', data=train_data, palette='Set1')\n",
    "\n",
    "# Add labels and title\n",
    "plt.xlabel('Target ')\n",
    "plt.ylabel('Count')\n",
    "plt.title('Clients Repayment Abilities By Contract Type')\n",
    "\n",
    "# Show the plot\n",
    "plt.legend(title='NAME_CONTRACT_TYPE')\n",
    "plt.xticks(rotation=0)\n",
    "plt.show()"
   ]
  },
  {
   "cell_type": "markdown",
   "id": "7b526ac8",
   "metadata": {},
   "source": [
    "Revolving loans make up only a tiny part of all the loans. But interestingly, when we look at how many of these revolving loans aren't paid back, it's a pretty high number compared to their small overall count."
   ]
  },
  {
   "cell_type": "markdown",
   "id": "a6bfab27",
   "metadata": {},
   "source": [
    "### How do clients repayment abilities differ depending on whether they own a car or not?"
   ]
  },
  {
   "cell_type": "code",
   "execution_count": 41,
   "id": "0166a78f",
   "metadata": {},
   "outputs": [
    {
     "name": "stdout",
     "output_type": "stream",
     "text": [
      "N    202924\n",
      "Y    104587\n",
      "Name: FLAG_OWN_CAR, dtype: int64\n",
      "Y    213312\n",
      "N     94199\n",
      "Name: FLAG_OWN_REALTY, dtype: int64\n"
     ]
    }
   ],
   "source": [
    "# checking the count  of 'FLAG_OWN_CAR' variable \n",
    "flag_own_car_count = train_data['FLAG_OWN_CAR'].value_counts()\n",
    "print(flag_own_car_count)\n",
    "# checking the count  of 'FLAG_OWN_REALTY' variable \n",
    "flag_own_reality_count = train_data['FLAG_OWN_REALTY'].value_counts()\n",
    "print(flag_own_reality_count)"
   ]
  },
  {
   "cell_type": "code",
   "execution_count": 42,
   "id": "35669e1f",
   "metadata": {},
   "outputs": [
    {
     "data": {
      "image/png": "[encoded data removed]",
      "text/plain": [
       "<Figure size 1500x600 with 2 Axes>"
      ]
     },
     "metadata": {},
     "output_type": "display_data"
    }
   ],
   "source": [
    "\n",
    "# Set the style and context\n",
    "sns.set_style('whitegrid')\n",
    "sns.set_context('paper', font_scale=1)\n",
    "\n",
    "# Create a subplot with 1 row and 2 columns\n",
    "fig, ax = plt.subplots(1, 2, figsize=(15, 6))\n",
    "\n",
    "# Plot 1: Clients Repayment Abilities By Car Ownership Status\n",
    "ax[0].set_title('Clients Repayment Abilities By Car Ownership Status', fontweight='bold', fontsize=14)\n",
    "sns.countplot(x='FLAG_OWN_CAR', data=train_data, hue='TARGET', ax=ax[0])\n",
    "\n",
    "# Plot 2: Clients Repayment Abilities By Realty Ownership Status\n",
    "ax[1].set_title('Clients Repayment Abilities By Realty Ownership Status', fontweight='bold', fontsize=14)\n",
    "sns.countplot(x='FLAG_OWN_REALTY', data=train_data, hue='TARGET', ax=ax[1])\n",
    "\n",
    "# Show the plots\n",
    "plt.show()\n",
    "\n"
   ]
  },
  {
   "cell_type": "markdown",
   "id": "0a1cd344",
   "metadata": {},
   "source": [
    "Half of the clients own cars, and both car owners and non-owners have similar repayment rates.\n",
    "\n",
    "More clients own real estate than those who don't, and both groups have similar repayment rates."
   ]
  },
  {
   "cell_type": "markdown",
   "id": "3276ef89",
   "metadata": {},
   "source": [
    "### SuiteType/ Income Type/Education Type/Family status Vs Target\n",
    "### How does these types affect clients repayment abilities?"
   ]
  },
  {
   "cell_type": "code",
   "execution_count": 43,
   "id": "9945dec1",
   "metadata": {},
   "outputs": [
    {
     "data": {
      "image/png": "[encoded data removed]",
      "text/plain": [
       "<Figure size 1500x1200 with 4 Axes>"
      ]
     },
     "metadata": {},
     "output_type": "display_data"
    }
   ],
   "source": [
    "\n",
    "# Set the style and context\n",
    "sns.set_style('whitegrid')\n",
    "sns.set_context('paper', font_scale=1)\n",
    "\n",
    "# Create a 2x2 grid of subplots\n",
    "fig, axes = plt.subplots(2, 2, figsize=(15, 12)) \n",
    "\n",
    "# Clients Repayment Abilities By Suite Type\n",
    "sns.countplot(x='NAME_TYPE_SUITE', data=train_data, hue='TARGET', ax=axes[0, 0], palette='Set2')\n",
    "axes[0, 0].set_title('Clients Repayment Abilities By Suite Type', fontweight='bold', fontsize=14)\n",
    "\n",
    "# Clients Repayment Abilities By Income Type\n",
    "sns.countplot(x='NAME_INCOME_TYPE', data=train_data, hue='TARGET', ax=axes[0, 1], palette='Set1')\n",
    "axes[0, 1].set_title('Clients Repayment Abilities By Income Type', fontweight='bold', fontsize=14)\n",
    "\n",
    "# Clients Repayment Abilities By Education Type\n",
    "sns.countplot(x='NAME_EDUCATION_TYPE', data=train_data, hue='TARGET', ax=axes[1, 0], palette='coolwarm')\n",
    "axes[1, 0].set_title('Clients Repayment Abilities By Education Type', fontweight='bold', fontsize=14)\n",
    "\n",
    "# Clients Repayment Abilities By Family Status\n",
    "sns.countplot(x='NAME_FAMILY_STATUS', data=train_data, hue='TARGET', ax=axes[1, 1], palette='Set3')\n",
    "axes[1, 1].set_title('Clients Repayment Abilities By Family Status', fontweight='bold', fontsize=14)\n",
    "\n",
    "# Adjust spacing between subplots\n",
    "plt.tight_layout()\n",
    "\n",
    "# Show the combined figure\n",
    "plt.show()\n"
   ]
  },
  {
   "cell_type": "markdown",
   "id": "b1eaa1aa",
   "metadata": {},
   "source": [
    "Plot 1: The Unaccompained people have high  payment difficulties where as less is observed in case of family or with partners and none with other.\n",
    "\n",
    "Plot 2.The primary source of income for loan applicants is typically from their jobs, followed by commercial roles, retirement, and government positions. However, applicants on maternity leave struggle the most with loan repayment, followed by those who are unemployed. Other income sources have more manageable loan repayment rates.\n",
    "\n",
    "Plot 3.Most clients have basic education, followed by higher education, with very few holding academic degrees. Interestingly, clients with only basic education have the highest loan repayment challenges, while those with academic degrees tend to repay their loans reliably.\n",
    "\n",
    "\n",
    "Plot 4.The majority of clients are married, followed by single individuals and those in civil partnerships. Surprisingly, clients in civil partnerships have the most difficulty repaying loans, while widows have the least difficulty, except for clients with unknown marital status.\n",
    "\n",
    "\n",
    "\n",
    "\n",
    "\n"
   ]
  },
  {
   "cell_type": "markdown",
   "id": "3e6cc0cd",
   "metadata": {},
   "source": [
    "### What is the connection between occupation type and clients repayment abilities?"
   ]
  },
  {
   "cell_type": "code",
   "execution_count": 44,
   "id": "c10a8574",
   "metadata": {},
   "outputs": [
    {
     "data": {
      "text/plain": [
       "Laborers                 55186\n",
       "Sales staff              32102\n",
       "Core staff               27570\n",
       "Managers                 21371\n",
       "Drivers                  18603\n",
       "High skill tech staff    11380\n",
       "Accountants               9813\n",
       "Medicine staff            8537\n",
       "Security staff            6721\n",
       "Cooking staff             5946\n",
       "Cleaning staff            4653\n",
       "Private service staff     2652\n",
       "Low-skill Laborers        2093\n",
       "Waiters/barmen staff      1348\n",
       "Secretaries               1305\n",
       "Realty agents              751\n",
       "HR staff                   563\n",
       "IT staff                   526\n",
       "Name: OCCUPATION_TYPE, dtype: int64"
      ]
     },
     "execution_count": 44,
     "metadata": {},
     "output_type": "execute_result"
    }
   ],
   "source": [
    "train_data[\"OCCUPATION_TYPE\"].value_counts()"
   ]
  },
  {
   "cell_type": "code",
   "execution_count": 45,
   "id": "6a79834b",
   "metadata": {},
   "outputs": [
    {
     "data": {
      "image/png": "[encoded data removed]",
      "text/plain": [
       "<Figure size 1200x600 with 1 Axes>"
      ]
     },
     "metadata": {},
     "output_type": "display_data"
    }
   ],
   "source": [
    "\n",
    "# Create a grouped bar plot\n",
    "plt.figure(figsize=(12, 6))\n",
    "sns.countplot(data= train_data, x='OCCUPATION_TYPE', hue='TARGET', palette='Set2')\n",
    "plt.xlabel('Occupation Type')\n",
    "plt.ylabel('Count')\n",
    "plt.title('Loan Outcome by Occupation Type')\n",
    "plt.xticks(rotation=90)\n",
    "plt.legend(title='Loan Outcome', labels=['Non-Defaulter', 'Defaulter'])\n",
    "plt.show()\n"
   ]
  },
  {
   "cell_type": "markdown",
   "id": "3597b6ae",
   "metadata": {},
   "source": [
    "Many loans are taken by Laborers and Sales staff, while IT staff take the fewest loans. Low-skill Laborers have the highest percentage of unpaid loans, followed by Drivers, Waiters/barmen staff, Security staff, Laborers, and Cooking staff."
   ]
  },
  {
   "cell_type": "markdown",
   "id": "f9176aeb",
   "metadata": {},
   "source": [
    "## Numerical Features Vs Target"
   ]
  },
  {
   "cell_type": "markdown",
   "id": "fa14ccb2",
   "metadata": {},
   "source": [
    "### AMT_CREDIT vs TARGET"
   ]
  },
  {
   "cell_type": "code",
   "execution_count": 46,
   "id": "c902eaad",
   "metadata": {},
   "outputs": [
    {
     "data": {
      "image/png": "[encoded data removed]",
      "text/plain": [
       "<Figure size 800x600 with 1 Axes>"
      ]
     },
     "metadata": {},
     "output_type": "display_data"
    }
   ],
   "source": [
    "\n",
    "sns.set(style=\"whitegrid\")\n",
    "plt.figure(figsize=(8, 6))\n",
    "\n",
    "sns.boxplot(x='TARGET', y='AMT_CREDIT', data=train_data)\n",
    "# Add labels and title\n",
    "plt.xlabel('Target ')\n",
    "plt.ylabel('Count')\n",
    "plt.title('Clients Repayment Abilities By their credit amount')\n",
    "\n",
    "# Show the plot\n",
    "plt.xticks(rotation=0)\n",
    "plt.show()"
   ]
  },
  {
   "cell_type": "markdown",
   "id": "a8061514",
   "metadata": {},
   "source": [
    "The values in this column indicate the total credit amount that each borrower has been granted. Both payment and no payment difficulties are same for the clients, however this can be changed if there is a income difference between the clients. "
   ]
  },
  {
   "cell_type": "markdown",
   "id": "46101ff3",
   "metadata": {},
   "source": [
    "### Does having a kid influence repayment?"
   ]
  },
  {
   "cell_type": "code",
   "execution_count": 47,
   "id": "6338d7fd",
   "metadata": {},
   "outputs": [
    {
     "data": {
      "text/plain": [
       "<matplotlib.legend.Legend at 0x24a93463340>"
      ]
     },
     "execution_count": 47,
     "metadata": {},
     "output_type": "execute_result"
    },
    {
     "data": {
      "image/png": "[encoded data removed]",
      "text/plain": [
       "<Figure size 1500x700 with 1 Axes>"
      ]
     },
     "metadata": {},
     "output_type": "display_data"
    }
   ],
   "source": [
    "fig, ax = plt.subplots(figsize=(15,7))\n",
    "sns.countplot(x='TARGET',hue='CNT_CHILDREN',data=train_data,palette=\"hls\")\n",
    "plt.legend(loc=1)"
   ]
  },
  {
   "cell_type": "markdown",
   "id": "d2da4ca5",
   "metadata": {},
   "source": [
    "Borrowers without children mostly didn't face problems repaying their loans. Having children makes repaying harder and slower for clients."
   ]
  },
  {
   "cell_type": "markdown",
   "id": "ef04deeb",
   "metadata": {},
   "source": [
    "### Age Vs Target"
   ]
  },
  {
   "cell_type": "code",
   "execution_count": 48,
   "id": "e5cad7a7",
   "metadata": {},
   "outputs": [
    {
     "data": {
      "image/png": "[encoded data removed]",
      "text/plain": [
       "<Figure size 800x600 with 1 Axes>"
      ]
     },
     "metadata": {},
     "output_type": "display_data"
    }
   ],
   "source": [
    "\n",
    "sns.set_style('whitegrid')\n",
    "train_data['Age'] = abs(train_data['DAYS_BIRTH']) / 365\n",
    "\n",
    "#histogram plot using Seaborn\n",
    "plt.figure(figsize=(8, 6))\n",
    "sns.histplot(data=train_data, x='Age', bins=25, kde=True, color='skyblue', edgecolor='k')\n",
    "plt.title('Age Distribution of Clients')\n",
    "plt.xlabel('Age (years)')\n",
    "plt.ylabel('Count')\n",
    "\n",
    "# Show the plot\n",
    "plt.show()\n"
   ]
  },
  {
   "cell_type": "code",
   "execution_count": 49,
   "id": "0e7cdd96",
   "metadata": {},
   "outputs": [
    {
     "data": {
      "image/png": "[encoded data removed]",
      "text/plain": [
       "<Figure size 1000x300 with 1 Axes>"
      ]
     },
     "metadata": {},
     "output_type": "display_data"
    },
    {
     "data": {
      "image/png": "[encoded data removed]",
      "text/plain": [
       "<Figure size 1000x300 with 1 Axes>"
      ]
     },
     "metadata": {},
     "output_type": "display_data"
    },
    {
     "data": {
      "image/png": "[encoded data removed]",
      "text/plain": [
       "<Figure size 1000x300 with 1 Axes>"
      ]
     },
     "metadata": {},
     "output_type": "display_data"
    }
   ],
   "source": [
    "\n",
    "no_age = train_data[train_data['TARGET']==0]['DAYS_BIRTH'].values/-365\n",
    "yes_age = train_data[train_data['TARGET']==1]['DAYS_BIRTH'].values/-365\n",
    "\n",
    "plt.figure(figsize=(10,3))\n",
    "plt.hist(train_data['DAYS_BIRTH'].values/-365, bins=10, edgecolor='black', color='skyblue')\n",
    "plt.title('Age of Client (in years) at the time of Application\\n')\n",
    "plt.xlabel('Age Bucket')\n",
    "plt.ylabel('Number of Clients')\n",
    "plt.show()\n",
    "\n",
    "plt.figure(figsize=(10,3))\n",
    "plt.hist(no_age, bins=10, edgecolor='black', color='lightgreen')\n",
    "plt.title('Age of Client (in years) who have No Payment Difficulties\\n')\n",
    "plt.xlabel('Age')\n",
    "plt.ylabel('Number of Clients')\n",
    "plt.show()\n",
    "\n",
    "plt.figure(figsize=(10,3))\n",
    "plt.hist(yes_age, bins=10, edgecolor='black', color='lightyellow')\n",
    "plt.title('Age of Client (in years) who have Payment Difficulties\\n')\n",
    "plt.xlabel('Age')\n",
    "plt.ylabel('Number of Clients')\n",
    "plt.show()"
   ]
  },
  {
   "cell_type": "markdown",
   "id": "ec65270d",
   "metadata": {},
   "source": [
    "The graphs shows that the younger the age, the greater is the loan repayment possibility.Younger individuals often have a higher likelihood of loan repayment because they typically have fewer financial responsibilities, better career prospects, shorter credit histories that can be favorable, lower debt burdens, and more flexible lifestyles, allowing them to allocate more of their income to loan repayment.However, Age is just one of many factors that lenders consider when assessing creditworthiness, and individual circumstances can vary widely."
   ]
  },
  {
   "cell_type": "markdown",
   "id": "79055bda",
   "metadata": {},
   "source": [
    "## 6. Finding the Correlation "
   ]
  },
  {
   "cell_type": "markdown",
   "id": "b183549e",
   "metadata": {},
   "source": [
    " Calculating correlations helps to uncover patterns and relationships between variables, identify important predictors, assess data quality, and inform feature selection. These correlations help us gain insights, reduce dimensionality, and improve the understanding of data, aiding in both statistical analyses and machine learning model development."
   ]
  },
  {
   "cell_type": "code",
   "execution_count": 50,
   "id": "19de44f9",
   "metadata": {},
   "outputs": [
    {
     "name": "stdout",
     "output_type": "stream",
     "text": [
      "Most Positive Correlations:\n",
      " FLAG_DOCUMENT_3                0.044346\n",
      "REG_CITY_NOT_LIVE_CITY         0.044395\n",
      "FLAG_EMP_PHONE                 0.045982\n",
      "REG_CITY_NOT_WORK_CITY         0.050994\n",
      "DAYS_ID_PUBLISH                0.051457\n",
      "DAYS_LAST_PHONE_CHANGE         0.055218\n",
      "REGION_RATING_CLIENT           0.058899\n",
      "REGION_RATING_CLIENT_W_CITY    0.060893\n",
      "DAYS_BIRTH                     0.078239\n",
      "TARGET                         1.000000\n",
      "Name: TARGET, dtype: float64\n",
      "\n",
      "Most Negative Correlations:\n",
      " EXT_SOURCE_3                 -0.178919\n",
      "EXT_SOURCE_2                 -0.160472\n",
      "EXT_SOURCE_1                 -0.155317\n",
      "Age                          -0.078239\n",
      "DAYS_EMPLOYED                -0.044932\n",
      "FLOORSMAX_AVG                -0.044003\n",
      "FLOORSMAX_MEDI               -0.043768\n",
      "FLOORSMAX_MODE               -0.043226\n",
      "AMT_GOODS_PRICE              -0.039645\n",
      "REGION_POPULATION_RELATIVE   -0.037227\n",
      "Name: TARGET, dtype: float64\n"
     ]
    }
   ],
   "source": [
    "\n",
    "correlation_with_target = train_data.corr()['TARGET'].sort_values()\n",
    "\n",
    "# Display the correlation with 'TARGET'\n",
    "print('Most Positive Correlations:\\n', correlation_with_target.tail(10))\n",
    "print('\\nMost Negative Correlations:\\n', correlation_with_target.head(10))\n"
   ]
  },
  {
   "cell_type": "markdown",
   "id": "826d32cc",
   "metadata": {},
   "source": [
    "The top 3 variables that have strongest negative correlations with the target are EXT_SOURCE_1, EXT_SOURCE_2, and EXT_SOURCE_3. "
   ]
  },
  {
   "cell_type": "code",
   "execution_count": 51,
   "id": "db2a211d",
   "metadata": {},
   "outputs": [
    {
     "data": {
      "image/png": "[encoded data removed]",
      "text/plain": [
       "<Figure size 1000x800 with 3 Axes>"
      ]
     },
     "metadata": {},
     "output_type": "display_data"
    }
   ],
   "source": [
    "\n",
    "\n",
    "# Set the figure size\n",
    "plt.figure(figsize=(10, 8))\n",
    "\n",
    "# List of the three EXT_SOURCE features\n",
    "ext_sources = ['EXT_SOURCE_1', 'EXT_SOURCE_2', 'EXT_SOURCE_3']\n",
    "\n",
    "# Iterate through the sources\n",
    "for i, source in enumerate(ext_sources):\n",
    "\n",
    "    # Create a new subplot for each source\n",
    "    plt.subplot(3, 1, i + 1)\n",
    "\n",
    "    # Plot the distribution of repaid loans (target == 0)\n",
    "    sns.kdeplot(train_data.loc[train_data['TARGET'] == 0, source], label='Repaid Loans')\n",
    "\n",
    "    # Plot the distribution of loans that were not repaid (target == 1)\n",
    "    sns.kdeplot(train_data.loc[train_data['TARGET'] == 1, source], label='Not Repaid Loans')\n",
    "\n",
    "    # Label the plots\n",
    "    plt.title('Distribution of {} by Loan Repayment'.format(source))\n",
    "    plt.xlabel('{}'.format(source))\n",
    "    plt.ylabel('Density')\n",
    "\n",
    "# Adjust the layout for better spacing\n",
    "plt.tight_layout(h_pad=2.5)\n",
    "\n",
    "# Display the plots\n",
    "plt.show()\n"
   ]
  },
  {
   "cell_type": "markdown",
   "id": "fda0d3c1",
   "metadata": {},
   "source": [
    "\"EXT_SOURCE_3 stands out as the feature with the most noticeable difference in values when we compare loan repayment and non-repayment. This suggests that this feature is connected to how likely an applicant is to pay back a loan"
   ]
  },
  {
   "cell_type": "code",
   "execution_count": 52,
   "id": "bbdf4346",
   "metadata": {},
   "outputs": [
    {
     "data": {
      "text/html": [
       "<div>\n",
       "<style scoped>\n",
       "    .dataframe tbody tr th:only-of-type {\n",
       "        vertical-align: middle;\n",
       "    }\n",
       "\n",
       "    .dataframe tbody tr th {\n",
       "        vertical-align: top;\n",
       "    }\n",
       "\n",
       "    .dataframe thead th {\n",
       "        text-align: right;\n",
       "    }\n",
       "</style>\n",
       "<table border=\"1\" class=\"dataframe\">\n",
       "  <thead>\n",
       "    <tr style=\"text-align: right;\">\n",
       "      <th></th>\n",
       "      <th>TARGET</th>\n",
       "      <th>EXT_SOURCE_1</th>\n",
       "      <th>EXT_SOURCE_2</th>\n",
       "      <th>EXT_SOURCE_3</th>\n",
       "    </tr>\n",
       "  </thead>\n",
       "  <tbody>\n",
       "    <tr>\n",
       "      <th>TARGET</th>\n",
       "      <td>1.000000</td>\n",
       "      <td>-0.155317</td>\n",
       "      <td>-0.160472</td>\n",
       "      <td>-0.178919</td>\n",
       "    </tr>\n",
       "    <tr>\n",
       "      <th>EXT_SOURCE_1</th>\n",
       "      <td>-0.155317</td>\n",
       "      <td>1.000000</td>\n",
       "      <td>0.213982</td>\n",
       "      <td>0.186846</td>\n",
       "    </tr>\n",
       "    <tr>\n",
       "      <th>EXT_SOURCE_2</th>\n",
       "      <td>-0.160472</td>\n",
       "      <td>0.213982</td>\n",
       "      <td>1.000000</td>\n",
       "      <td>0.109167</td>\n",
       "    </tr>\n",
       "    <tr>\n",
       "      <th>EXT_SOURCE_3</th>\n",
       "      <td>-0.178919</td>\n",
       "      <td>0.186846</td>\n",
       "      <td>0.109167</td>\n",
       "      <td>1.000000</td>\n",
       "    </tr>\n",
       "  </tbody>\n",
       "</table>\n",
       "</div>"
      ],
      "text/plain": [
       "                TARGET  EXT_SOURCE_1  EXT_SOURCE_2  EXT_SOURCE_3\n",
       "TARGET        1.000000     -0.155317     -0.160472     -0.178919\n",
       "EXT_SOURCE_1 -0.155317      1.000000      0.213982      0.186846\n",
       "EXT_SOURCE_2 -0.160472      0.213982      1.000000      0.109167\n",
       "EXT_SOURCE_3 -0.178919      0.186846      0.109167      1.000000"
      ]
     },
     "execution_count": 52,
     "metadata": {},
     "output_type": "execute_result"
    }
   ],
   "source": [
    "# strongest correlation EXT_SOURCE variables with Target\n",
    "ext_data = train_data[['TARGET', 'EXT_SOURCE_1', 'EXT_SOURCE_2', 'EXT_SOURCE_3']]\n",
    "ext_data_corrs = ext_data.corr()\n",
    "ext_data_corrs"
   ]
  },
  {
   "cell_type": "code",
   "execution_count": 53,
   "id": "5d4babc7",
   "metadata": {},
   "outputs": [
    {
     "data": {
      "image/png": "[encoded data removed]",
      "text/plain": [
       "<Figure size 800x600 with 2 Axes>"
      ]
     },
     "metadata": {},
     "output_type": "display_data"
    }
   ],
   "source": [
    "\n",
    "plt.figure(figsize=(8, 6))\n",
    "corr_matrix = ext_data_corrs\n",
    "\n",
    "# Define the colormap and limits\n",
    "cmap = sns.diverging_palette(220, 10, as_cmap=True)\n",
    "vmin, vmax = -0.25, 0.6\n",
    "\n",
    "# Create the heatmap\n",
    "sns.heatmap(corr_matrix, cmap=cmap, vmin=vmin, vmax=vmax, annot=True, fmt=\".2f\")\n",
    "\n",
    "# Set the title\n",
    "plt.title('Correlation Heatmap')\n",
    "\n",
    "# Show the plot\n",
    "plt.show()\n"
   ]
  },
  {
   "cell_type": "markdown",
   "id": "f44adefd",
   "metadata": {},
   "source": [
    " EXT_SOURCE_1, EXT_SOURCE_2 & EXT_SOURCE_3 features show negative correlations with the target, which means that when the EXT_SOURCE values increase, clients tend to have a higher likelihood of repaying the loan.\"\n",
    "\n",
    "\n",
    "\n",
    "\n"
   ]
  },
  {
   "cell_type": "markdown",
   "id": "4a92daef",
   "metadata": {},
   "source": [
    "## 7. Data Cleaning: Missing Values"
   ]
  },
  {
   "cell_type": "markdown",
   "id": "56749623",
   "metadata": {},
   "source": [
    "Missing data can introduce biases, distort analyses, and impact the performance of machine learning models.Hence addressing them for better quality and reliability of the dataset."
   ]
  },
  {
   "cell_type": "code",
   "execution_count": 54,
   "id": "a038ec1b",
   "metadata": {},
   "outputs": [
    {
     "name": "stdout",
     "output_type": "stream",
     "text": [
      "                     Column Name  Missing Values  Missing Percentage\n",
      "0                COMMONAREA_MEDI          214865               69.87\n",
      "1                COMMONAREA_MODE          214865               69.87\n",
      "2                 COMMONAREA_AVG          214865               69.87\n",
      "3       NONLIVINGAPARTMENTS_MEDI          213514               69.43\n",
      "4       NONLIVINGAPARTMENTS_MODE          213514               69.43\n",
      "5        NONLIVINGAPARTMENTS_AVG          213514               69.43\n",
      "6             FONDKAPREMONT_MODE          210295               68.39\n",
      "7          LIVINGAPARTMENTS_MEDI          210199               68.35\n",
      "8          LIVINGAPARTMENTS_MODE          210199               68.35\n",
      "9           LIVINGAPARTMENTS_AVG          210199               68.35\n",
      "10                FLOORSMIN_MEDI          208642               67.85\n",
      "11                FLOORSMIN_MODE          208642               67.85\n",
      "12                 FLOORSMIN_AVG          208642               67.85\n",
      "13               YEARS_BUILD_AVG          204488               66.50\n",
      "14              YEARS_BUILD_MEDI          204488               66.50\n",
      "15              YEARS_BUILD_MODE          204488               66.50\n",
      "16                   OWN_CAR_AGE          202929               65.99\n",
      "17                 LANDAREA_MEDI          182590               59.38\n",
      "18                  LANDAREA_AVG          182590               59.38\n",
      "19                 LANDAREA_MODE          182590               59.38\n",
      "20             BASEMENTAREA_MODE          179943               58.52\n",
      "21             BASEMENTAREA_MEDI          179943               58.52\n",
      "22              BASEMENTAREA_AVG          179943               58.52\n",
      "23                  EXT_SOURCE_1          173378               56.38\n",
      "24            NONLIVINGAREA_MEDI          169682               55.18\n",
      "25             NONLIVINGAREA_AVG          169682               55.18\n",
      "26            NONLIVINGAREA_MODE          169682               55.18\n",
      "27                ELEVATORS_MEDI          163891               53.30\n",
      "28                ELEVATORS_MODE          163891               53.30\n",
      "29                 ELEVATORS_AVG          163891               53.30\n",
      "30            WALLSMATERIAL_MODE          156341               50.84\n",
      "31                APARTMENTS_AVG          156061               50.75\n",
      "32               APARTMENTS_MEDI          156061               50.75\n",
      "33               APARTMENTS_MODE          156061               50.75\n",
      "34                 ENTRANCES_AVG          154828               50.35\n",
      "35                ENTRANCES_MODE          154828               50.35\n",
      "36                ENTRANCES_MEDI          154828               50.35\n",
      "37                LIVINGAREA_AVG          154350               50.19\n",
      "38               LIVINGAREA_MEDI          154350               50.19\n",
      "39               LIVINGAREA_MODE          154350               50.19\n",
      "40                HOUSETYPE_MODE          154297               50.18\n",
      "41                 FLOORSMAX_AVG          153020               49.76\n",
      "42                FLOORSMAX_MODE          153020               49.76\n",
      "43                FLOORSMAX_MEDI          153020               49.76\n",
      "44  YEARS_BEGINEXPLUATATION_MODE          150007               48.78\n",
      "45  YEARS_BEGINEXPLUATATION_MEDI          150007               48.78\n",
      "46   YEARS_BEGINEXPLUATATION_AVG          150007               48.78\n",
      "47                TOTALAREA_MODE          148431               48.27\n",
      "48           EMERGENCYSTATE_MODE          145755               47.40\n",
      "49               OCCUPATION_TYPE           96391               31.35\n",
      "50                  EXT_SOURCE_3           60965               19.83\n",
      "51     AMT_REQ_CREDIT_BUREAU_QRT           41519               13.50\n",
      "52    AMT_REQ_CREDIT_BUREAU_YEAR           41519               13.50\n",
      "53     AMT_REQ_CREDIT_BUREAU_MON           41519               13.50\n",
      "54    AMT_REQ_CREDIT_BUREAU_HOUR           41519               13.50\n",
      "\n",
      "Summary Information:\n",
      "Total columns in the DataFrame: 123\n",
      "Columns with missing values: 67\n"
     ]
    }
   ],
   "source": [
    "#creating custome function to find the missing values\n",
    "\n",
    "def display_missing_data_statistics(data):\n",
    "    \n",
    "    missing_values = data.isnull().sum()\n",
    "    # Calculating missing data percentages for each column\n",
    "    missing_percentage = (data.isna().mean() * 100).round(2)\n",
    "    \n",
    "    # Create a DataFrame to display missing data percentages\n",
    "    missing_data = pd.DataFrame({'Column Name': missing_percentage.index,\n",
    "                                 'Missing Values': missing_values,\n",
    "                                 'Missing Percentage': missing_percentage.values})\n",
    "    \n",
    "    # Sorting the missing data\n",
    "    missing_data = missing_data.sort_values(by='Missing Percentage', ascending=False).reset_index(drop=True)\n",
    "    print(missing_data.head(55))\n",
    "    \n",
    "    # Printing summary information\n",
    "    print(\"\\nSummary Information:\")\n",
    "    print(f\"Total columns in the DataFrame: {data.shape[1]}\")\n",
    "    print(f\"Columns with missing values: {missing_data[missing_data['Missing Values'] > 0].shape[0]}\")\n",
    "\n",
    "# Calling the function with  train_data\n",
    "display_missing_data_statistics(train_data)\n"
   ]
  },
  {
   "cell_type": "code",
   "execution_count": 55,
   "id": "5fd3a0d2",
   "metadata": {},
   "outputs": [
    {
     "data": {
      "text/plain": [
       "(307511, 123)"
      ]
     },
     "execution_count": 55,
     "metadata": {},
     "output_type": "execute_result"
    }
   ],
   "source": [
    "train_data.shape"
   ]
  },
  {
   "cell_type": "code",
   "execution_count": 56,
   "id": "e8fa6a82",
   "metadata": {},
   "outputs": [
    {
     "data": {
      "text/plain": [
       "(307511, 75)"
      ]
     },
     "execution_count": 56,
     "metadata": {},
     "output_type": "execute_result"
    }
   ],
   "source": [
    "# # Specify the threshold for missing values (45% in this case)\n",
    "missing_threshold = 0.45\n",
    "\n",
    "# Identify columns with missing values exceeding the threshold\n",
    "columns_to_remove = train_data.columns[train_data.isnull().mean() > missing_threshold]\n",
    "\n",
    "# Remove all columns to be dropped, except 'EXT_SOURCE_1'\n",
    "columns_to_remove = [col for col in columns_to_remove if col != 'EXT_SOURCE_1']\n",
    "train_data_filtered = train_data.drop(columns=columns_to_remove)\n",
    "\n",
    "# Now 'train_data_filtered' contains only columns with missing values <= 45%\n",
    "train_data_filtered.shape"
   ]
  },
  {
   "cell_type": "code",
   "execution_count": 57,
   "id": "630d220c",
   "metadata": {},
   "outputs": [
    {
     "name": "stdout",
     "output_type": "stream",
     "text": [
      "                   Column Name  Missing Values  Missing Percentage\n",
      "0                 EXT_SOURCE_1          173378               56.38\n",
      "1              OCCUPATION_TYPE           96391               31.35\n",
      "2                 EXT_SOURCE_3           60965               19.83\n",
      "3   AMT_REQ_CREDIT_BUREAU_YEAR           41519               13.50\n",
      "4    AMT_REQ_CREDIT_BUREAU_QRT           41519               13.50\n",
      "5    AMT_REQ_CREDIT_BUREAU_MON           41519               13.50\n",
      "6   AMT_REQ_CREDIT_BUREAU_WEEK           41519               13.50\n",
      "7    AMT_REQ_CREDIT_BUREAU_DAY           41519               13.50\n",
      "8   AMT_REQ_CREDIT_BUREAU_HOUR           41519               13.50\n",
      "9              NAME_TYPE_SUITE            1292                0.42\n",
      "10    OBS_30_CNT_SOCIAL_CIRCLE            1021                0.33\n",
      "11    DEF_30_CNT_SOCIAL_CIRCLE            1021                0.33\n",
      "12    OBS_60_CNT_SOCIAL_CIRCLE            1021                0.33\n",
      "13    DEF_60_CNT_SOCIAL_CIRCLE            1021                0.33\n",
      "14                EXT_SOURCE_2             660                0.21\n",
      "15             AMT_GOODS_PRICE             278                0.09\n",
      "16             FLAG_DOCUMENT_7               0                0.00\n",
      "17      DAYS_LAST_PHONE_CHANGE               1                0.00\n",
      "18             FLAG_DOCUMENT_2               0                0.00\n",
      "19             FLAG_DOCUMENT_3               0                0.00\n",
      "20             FLAG_DOCUMENT_4               0                0.00\n",
      "21             FLAG_DOCUMENT_5               0                0.00\n",
      "22             FLAG_DOCUMENT_6               0                0.00\n",
      "23                  SK_ID_CURR               0                0.00\n",
      "24             FLAG_DOCUMENT_8               0                0.00\n",
      "25             FLAG_DOCUMENT_9               0                0.00\n",
      "26            FLAG_DOCUMENT_10               0                0.00\n",
      "27            FLAG_DOCUMENT_11               0                0.00\n",
      "28           ORGANIZATION_TYPE               0                0.00\n",
      "29            FLAG_DOCUMENT_13               0                0.00\n",
      "30            FLAG_DOCUMENT_14               0                0.00\n",
      "31            FLAG_DOCUMENT_15               0                0.00\n",
      "32            FLAG_DOCUMENT_16               0                0.00\n",
      "33            FLAG_DOCUMENT_17               0                0.00\n",
      "34            FLAG_DOCUMENT_18               0                0.00\n",
      "35            FLAG_DOCUMENT_19               0                0.00\n",
      "36            FLAG_DOCUMENT_20               0                0.00\n",
      "37            FLAG_DOCUMENT_21               0                0.00\n",
      "38            FLAG_DOCUMENT_12               0                0.00\n",
      "39      REG_CITY_NOT_WORK_CITY               0                0.00\n",
      "40     LIVE_CITY_NOT_WORK_CITY               0                0.00\n",
      "41                 AMT_ANNUITY              12                0.00\n",
      "42                  DAYS_BIRTH               0                0.00\n",
      "43  REGION_POPULATION_RELATIVE               0                0.00\n",
      "44           NAME_HOUSING_TYPE               0                0.00\n",
      "45          NAME_FAMILY_STATUS               0                0.00\n",
      "46         NAME_EDUCATION_TYPE               0                0.00\n",
      "47            NAME_INCOME_TYPE               0                0.00\n",
      "48                  AMT_CREDIT               0                0.00\n",
      "49           DAYS_REGISTRATION               0                0.00\n",
      "50            AMT_INCOME_TOTAL               0                0.00\n",
      "51                CNT_CHILDREN               0                0.00\n",
      "52             FLAG_OWN_REALTY               0                0.00\n",
      "53                FLAG_OWN_CAR               0                0.00\n",
      "54                 CODE_GENDER               0                0.00\n",
      "\n",
      "Summary Information:\n",
      "Total columns in the DataFrame: 75\n",
      "Columns with missing values: 19\n"
     ]
    }
   ],
   "source": [
    "#Checking missing values\n",
    "\n",
    "display_missing_data_statistics(train_data_filtered)"
   ]
  },
  {
   "cell_type": "code",
   "execution_count": 58,
   "id": "ad3553e2",
   "metadata": {},
   "outputs": [
    {
     "data": {
      "text/plain": [
       "(307511, 75)"
      ]
     },
     "execution_count": 58,
     "metadata": {},
     "output_type": "execute_result"
    }
   ],
   "source": [
    "train_data_filtered.shape"
   ]
  },
  {
   "cell_type": "markdown",
   "id": "5d006a8e",
   "metadata": {},
   "source": [
    " ## 8. Feature Selection\n",
    " "
   ]
  },
  {
   "cell_type": "code",
   "execution_count": 59,
   "id": "16495a24",
   "metadata": {},
   "outputs": [
    {
     "data": {
      "text/plain": [
       "['AMT_ANNUITY',\n",
       " 'AMT_GOODS_PRICE',\n",
       " 'FLAG_EMP_PHONE',\n",
       " 'CNT_FAM_MEMBERS',\n",
       " 'REGION_RATING_CLIENT_W_CITY',\n",
       " 'LIVE_REGION_NOT_WORK_REGION',\n",
       " 'LIVE_CITY_NOT_WORK_CITY',\n",
       " 'OBS_60_CNT_SOCIAL_CIRCLE',\n",
       " 'DEF_60_CNT_SOCIAL_CIRCLE',\n",
       " 'Age']"
      ]
     },
     "execution_count": 59,
     "metadata": {},
     "output_type": "execute_result"
    }
   ],
   "source": [
    "corr_matrix = train_data_filtered.corr().abs()\n",
    "upper = corr_matrix.where(np.triu(np.ones(corr_matrix.shape), k=1).astype(np.bool))\n",
    "removing_high_correlation = [column for column in upper.columns if any(upper[column] > 0.75)]\n",
    "removing_high_correlation"
   ]
  },
  {
   "cell_type": "code",
   "execution_count": 60,
   "id": "3c74745c",
   "metadata": {},
   "outputs": [
    {
     "data": {
      "text/plain": [
       "AMT_ANNUITY                   -0.012817\n",
       "AMT_GOODS_PRICE               -0.039645\n",
       "FLAG_EMP_PHONE                 0.045982\n",
       "CNT_FAM_MEMBERS                0.009308\n",
       "REGION_RATING_CLIENT_W_CITY    0.060893\n",
       "LIVE_REGION_NOT_WORK_REGION    0.002819\n",
       "LIVE_CITY_NOT_WORK_CITY        0.032518\n",
       "OBS_60_CNT_SOCIAL_CIRCLE       0.009022\n",
       "DEF_60_CNT_SOCIAL_CIRCLE       0.031276\n",
       "TARGET                         1.000000\n",
       "Name: TARGET, dtype: float64"
      ]
     },
     "execution_count": 60,
     "metadata": {},
     "output_type": "execute_result"
    }
   ],
   "source": [
    "correlation_columns = ['AMT_ANNUITY',\n",
    " 'AMT_GOODS_PRICE',\n",
    " 'FLAG_EMP_PHONE',\n",
    " 'CNT_FAM_MEMBERS',\n",
    " 'REGION_RATING_CLIENT_W_CITY',\n",
    " 'LIVE_REGION_NOT_WORK_REGION',\n",
    " 'LIVE_CITY_NOT_WORK_CITY',\n",
    " 'OBS_60_CNT_SOCIAL_CIRCLE',\n",
    " 'DEF_60_CNT_SOCIAL_CIRCLE']\n",
    "\n",
    "correlations = train_data[correlation_columns + ['TARGET']].corr()['TARGET']\n",
    "correlations"
   ]
  },
  {
   "cell_type": "code",
   "execution_count": 61,
   "id": "c684b3cf",
   "metadata": {},
   "outputs": [],
   "source": [
    "dropping_columns_with_lesscorr = correlations[correlations < 0.04].index"
   ]
  },
  {
   "cell_type": "code",
   "execution_count": 62,
   "id": "4612cf5e",
   "metadata": {},
   "outputs": [],
   "source": [
    "train_data_filtered.drop(columns=dropping_columns_with_lesscorr, inplace=True)"
   ]
  },
  {
   "cell_type": "code",
   "execution_count": 63,
   "id": "a2e050c8",
   "metadata": {},
   "outputs": [
    {
     "data": {
      "text/plain": [
       "(307511, 68)"
      ]
     },
     "execution_count": 63,
     "metadata": {},
     "output_type": "execute_result"
    }
   ],
   "source": [
    "train_data_filtered.shape"
   ]
  },
  {
   "cell_type": "markdown",
   "id": "501f6b92",
   "metadata": {},
   "source": [
    "Flag document just flags the data whether customer submitted document or not so better to remove Flag documents, as described in the code, are binary columns that indicate whether a customer has submitted specific documents (e.g., identification documents, financial statements, etc.).\n"
   ]
  },
  {
   "cell_type": "code",
   "execution_count": 64,
   "id": "7f79d7e4",
   "metadata": {},
   "outputs": [],
   "source": [
    "\n",
    "flag_documents_data = ['FLAG_DOCUMENT_2','FLAG_DOCUMENT_3','FLAG_DOCUMENT_4','FLAG_DOCUMENT_5','FLAG_DOCUMENT_6','FLAG_DOCUMENT_7',\n",
    "'FLAG_DOCUMENT_8','FLAG_DOCUMENT_9','FLAG_DOCUMENT_10','FLAG_DOCUMENT_11','FLAG_DOCUMENT_12','FLAG_DOCUMENT_13','FLAG_DOCUMENT_14',\n",
    "'FLAG_DOCUMENT_15','FLAG_DOCUMENT_16','FLAG_DOCUMENT_17','FLAG_DOCUMENT_18','FLAG_DOCUMENT_19','FLAG_DOCUMENT_20','FLAG_DOCUMENT_21']"
   ]
  },
  {
   "cell_type": "code",
   "execution_count": 65,
   "id": "9d201e28",
   "metadata": {},
   "outputs": [
    {
     "data": {
      "text/plain": [
       "(307511, 48)"
      ]
     },
     "execution_count": 65,
     "metadata": {},
     "output_type": "execute_result"
    }
   ],
   "source": [
    "# removing those flag columns\n",
    "train_data_filtered.drop(columns=flag_documents_data, inplace=True)\n",
    "train_data_filtered.shape"
   ]
  },
  {
   "cell_type": "markdown",
   "id": "90abca8c",
   "metadata": {},
   "source": [
    "## 9. Imputing the missing values"
   ]
  },
  {
   "cell_type": "code",
   "execution_count": 66,
   "id": "7d8272d1",
   "metadata": {},
   "outputs": [],
   "source": [
    "# Impute missing values in numerical columns with the mean\n",
    "numerical_cols = train_data_filtered.select_dtypes(include=['number']).columns\n",
    "train_data_filtered[numerical_cols] = train_data_filtered[numerical_cols].fillna(train_data_filtered[numerical_cols].mean())"
   ]
  },
  {
   "cell_type": "code",
   "execution_count": 67,
   "id": "4c4cd610",
   "metadata": {},
   "outputs": [],
   "source": [
    "# Impute missing values in categorical columns with mode\n",
    "categorical_cols = train_data_filtered.select_dtypes(exclude=['number']).columns\n",
    "train_data_filtered[categorical_cols] = train_data_filtered[categorical_cols].fillna(train_data_filtered[categorical_cols].mode().iloc[0])"
   ]
  },
  {
   "cell_type": "code",
   "execution_count": 68,
   "id": "f5291657",
   "metadata": {},
   "outputs": [
    {
     "data": {
      "text/plain": [
       "Index(['NAME_CONTRACT_TYPE', 'CODE_GENDER', 'FLAG_OWN_CAR', 'FLAG_OWN_REALTY',\n",
       "       'NAME_TYPE_SUITE', 'NAME_INCOME_TYPE', 'NAME_EDUCATION_TYPE',\n",
       "       'NAME_FAMILY_STATUS', 'NAME_HOUSING_TYPE', 'OCCUPATION_TYPE',\n",
       "       'WEEKDAY_APPR_PROCESS_START', 'ORGANIZATION_TYPE'],\n",
       "      dtype='object')"
      ]
     },
     "execution_count": 68,
     "metadata": {},
     "output_type": "execute_result"
    }
   ],
   "source": [
    "# Finding out object datatype\n",
    "train_data_filtered.select_dtypes('object').columns"
   ]
  },
  {
   "cell_type": "code",
   "execution_count": 69,
   "id": "e086c63b",
   "metadata": {},
   "outputs": [
    {
     "name": "stdout",
     "output_type": "stream",
     "text": [
      "                    Column Name  Missing Values  Missing Percentage\n",
      "0                    SK_ID_CURR               0                 0.0\n",
      "1                        TARGET               0                 0.0\n",
      "2          REGION_RATING_CLIENT               0                 0.0\n",
      "3   REGION_RATING_CLIENT_W_CITY               0                 0.0\n",
      "4    WEEKDAY_APPR_PROCESS_START               0                 0.0\n",
      "5       HOUR_APPR_PROCESS_START               0                 0.0\n",
      "6    REG_REGION_NOT_LIVE_REGION               0                 0.0\n",
      "7    REG_REGION_NOT_WORK_REGION               0                 0.0\n",
      "8        REG_CITY_NOT_LIVE_CITY               0                 0.0\n",
      "9        REG_CITY_NOT_WORK_CITY               0                 0.0\n",
      "10            ORGANIZATION_TYPE               0                 0.0\n",
      "11                 EXT_SOURCE_1               0                 0.0\n",
      "12                 EXT_SOURCE_2               0                 0.0\n",
      "13                 EXT_SOURCE_3               0                 0.0\n",
      "14     OBS_30_CNT_SOCIAL_CIRCLE               0                 0.0\n",
      "15     DEF_30_CNT_SOCIAL_CIRCLE               0                 0.0\n",
      "16       DAYS_LAST_PHONE_CHANGE               0                 0.0\n",
      "17   AMT_REQ_CREDIT_BUREAU_HOUR               0                 0.0\n",
      "18    AMT_REQ_CREDIT_BUREAU_DAY               0                 0.0\n",
      "19   AMT_REQ_CREDIT_BUREAU_WEEK               0                 0.0\n",
      "20    AMT_REQ_CREDIT_BUREAU_MON               0                 0.0\n",
      "21    AMT_REQ_CREDIT_BUREAU_QRT               0                 0.0\n",
      "22   AMT_REQ_CREDIT_BUREAU_YEAR               0                 0.0\n",
      "23              OCCUPATION_TYPE               0                 0.0\n",
      "24                   FLAG_EMAIL               0                 0.0\n",
      "25                   FLAG_PHONE               0                 0.0\n",
      "26          NAME_EDUCATION_TYPE               0                 0.0\n",
      "27           NAME_CONTRACT_TYPE               0                 0.0\n",
      "28                  CODE_GENDER               0                 0.0\n",
      "29                 FLAG_OWN_CAR               0                 0.0\n",
      "30              FLAG_OWN_REALTY               0                 0.0\n",
      "31                 CNT_CHILDREN               0                 0.0\n",
      "32             AMT_INCOME_TOTAL               0                 0.0\n",
      "33                   AMT_CREDIT               0                 0.0\n",
      "34              NAME_TYPE_SUITE               0                 0.0\n",
      "35             NAME_INCOME_TYPE               0                 0.0\n",
      "36           NAME_FAMILY_STATUS               0                 0.0\n",
      "37             FLAG_CONT_MOBILE               0                 0.0\n",
      "38            NAME_HOUSING_TYPE               0                 0.0\n",
      "39   REGION_POPULATION_RELATIVE               0                 0.0\n",
      "40                   DAYS_BIRTH               0                 0.0\n",
      "41                DAYS_EMPLOYED               0                 0.0\n",
      "42            DAYS_REGISTRATION               0                 0.0\n",
      "43              DAYS_ID_PUBLISH               0                 0.0\n",
      "44                   FLAG_MOBIL               0                 0.0\n",
      "45               FLAG_EMP_PHONE               0                 0.0\n",
      "46              FLAG_WORK_PHONE               0                 0.0\n",
      "47                          Age               0                 0.0\n",
      "\n",
      "Summary Information:\n",
      "Total columns in the DataFrame: 48\n",
      "Columns with missing values: 0\n"
     ]
    }
   ],
   "source": [
    "#Checking missing values\n",
    "\n",
    "display_missing_data_statistics(train_data_filtered)"
   ]
  },
  {
   "cell_type": "code",
   "execution_count": 70,
   "id": "0bfd55e0",
   "metadata": {},
   "outputs": [
    {
     "data": {
      "text/plain": [
       "NAME_CONTRACT_TYPE             2\n",
       "CODE_GENDER                    3\n",
       "FLAG_OWN_CAR                   2\n",
       "FLAG_OWN_REALTY                2\n",
       "NAME_TYPE_SUITE                7\n",
       "NAME_INCOME_TYPE               8\n",
       "NAME_EDUCATION_TYPE            5\n",
       "NAME_FAMILY_STATUS             6\n",
       "NAME_HOUSING_TYPE              6\n",
       "OCCUPATION_TYPE               18\n",
       "WEEKDAY_APPR_PROCESS_START     7\n",
       "ORGANIZATION_TYPE             58\n",
       "dtype: int64"
      ]
     },
     "execution_count": 70,
     "metadata": {},
     "output_type": "execute_result"
    }
   ],
   "source": [
    "num_unique_data_types = train_data_filtered.select_dtypes(include=['object']).nunique()\n",
    "num_unique_data_types"
   ]
  },
  {
   "cell_type": "markdown",
   "id": "93b5d634",
   "metadata": {},
   "source": [
    "\n",
    "## 10. Categorical Data Processing (One-Hot Encoding)"
   ]
  },
  {
   "cell_type": "code",
   "execution_count": 71,
   "id": "b9163e45",
   "metadata": {},
   "outputs": [
    {
     "name": "stdout",
     "output_type": "stream",
     "text": [
      "['NAME_CONTRACT_TYPE', 'CODE_GENDER', 'FLAG_OWN_CAR', 'FLAG_OWN_REALTY', 'NAME_TYPE_SUITE', 'NAME_INCOME_TYPE', 'NAME_EDUCATION_TYPE', 'NAME_FAMILY_STATUS', 'NAME_HOUSING_TYPE', 'OCCUPATION_TYPE', 'WEEKDAY_APPR_PROCESS_START', 'ORGANIZATION_TYPE']\n"
     ]
    }
   ],
   "source": [
    "# Get a list of categorical columns ( dtype='object')\n",
    "categorical_columns = train_data_filtered.select_dtypes(include= 'object').columns.tolist()\n",
    "\n",
    "# Display the list of categorical columns\n",
    "print(categorical_columns)"
   ]
  },
  {
   "cell_type": "code",
   "execution_count": 72,
   "id": "625e676c",
   "metadata": {},
   "outputs": [],
   "source": [
    "# Perform one-hot encoding on categorical columns\n",
    "train_data_encoded = pd.get_dummies(train_data_filtered, columns=categorical_columns)\n"
   ]
  },
  {
   "cell_type": "code",
   "execution_count": 73,
   "id": "12a8383e",
   "metadata": {},
   "outputs": [
    {
     "data": {
      "text/plain": [
       "[]"
      ]
     },
     "execution_count": 73,
     "metadata": {},
     "output_type": "execute_result"
    }
   ],
   "source": [
    "#checking whether the categorical variables are changed to numerical or not\n",
    "list(train_data_encoded.select_dtypes('object'))"
   ]
  },
  {
   "cell_type": "markdown",
   "id": "feb87141",
   "metadata": {},
   "source": [
    "## 11. Exploring Bureau data"
   ]
  },
  {
   "cell_type": "code",
   "execution_count": 74,
   "id": "96d96571",
   "metadata": {},
   "outputs": [
    {
     "data": {
      "text/html": [
       "<div>\n",
       "<style scoped>\n",
       "    .dataframe tbody tr th:only-of-type {\n",
       "        vertical-align: middle;\n",
       "    }\n",
       "\n",
       "    .dataframe tbody tr th {\n",
       "        vertical-align: top;\n",
       "    }\n",
       "\n",
       "    .dataframe thead th {\n",
       "        text-align: right;\n",
       "    }\n",
       "</style>\n",
       "<table border=\"1\" class=\"dataframe\">\n",
       "  <thead>\n",
       "    <tr style=\"text-align: right;\">\n",
       "      <th></th>\n",
       "      <th>SK_ID_CURR</th>\n",
       "      <th>SK_ID_BUREAU</th>\n",
       "      <th>CREDIT_ACTIVE</th>\n",
       "      <th>CREDIT_CURRENCY</th>\n",
       "      <th>DAYS_CREDIT</th>\n",
       "      <th>CREDIT_DAY_OVERDUE</th>\n",
       "      <th>DAYS_CREDIT_ENDDATE</th>\n",
       "      <th>DAYS_ENDDATE_FACT</th>\n",
       "      <th>AMT_CREDIT_MAX_OVERDUE</th>\n",
       "      <th>CNT_CREDIT_PROLONG</th>\n",
       "      <th>AMT_CREDIT_SUM</th>\n",
       "      <th>AMT_CREDIT_SUM_DEBT</th>\n",
       "      <th>AMT_CREDIT_SUM_LIMIT</th>\n",
       "      <th>AMT_CREDIT_SUM_OVERDUE</th>\n",
       "      <th>CREDIT_TYPE</th>\n",
       "      <th>DAYS_CREDIT_UPDATE</th>\n",
       "      <th>AMT_ANNUITY</th>\n",
       "    </tr>\n",
       "  </thead>\n",
       "  <tbody>\n",
       "    <tr>\n",
       "      <th>0</th>\n",
       "      <td>215354</td>\n",
       "      <td>5714462</td>\n",
       "      <td>Closed</td>\n",
       "      <td>currency 1</td>\n",
       "      <td>-497</td>\n",
       "      <td>0</td>\n",
       "      <td>-153.0</td>\n",
       "      <td>-153.0</td>\n",
       "      <td>NaN</td>\n",
       "      <td>0</td>\n",
       "      <td>91323.0</td>\n",
       "      <td>0.0</td>\n",
       "      <td>NaN</td>\n",
       "      <td>0.0</td>\n",
       "      <td>Consumer credit</td>\n",
       "      <td>-131</td>\n",
       "      <td>NaN</td>\n",
       "    </tr>\n",
       "    <tr>\n",
       "      <th>1</th>\n",
       "      <td>215354</td>\n",
       "      <td>5714463</td>\n",
       "      <td>Active</td>\n",
       "      <td>currency 1</td>\n",
       "      <td>-208</td>\n",
       "      <td>0</td>\n",
       "      <td>1075.0</td>\n",
       "      <td>NaN</td>\n",
       "      <td>NaN</td>\n",
       "      <td>0</td>\n",
       "      <td>225000.0</td>\n",
       "      <td>171342.0</td>\n",
       "      <td>NaN</td>\n",
       "      <td>0.0</td>\n",
       "      <td>Credit card</td>\n",
       "      <td>-20</td>\n",
       "      <td>NaN</td>\n",
       "    </tr>\n",
       "    <tr>\n",
       "      <th>2</th>\n",
       "      <td>215354</td>\n",
       "      <td>5714464</td>\n",
       "      <td>Active</td>\n",
       "      <td>currency 1</td>\n",
       "      <td>-203</td>\n",
       "      <td>0</td>\n",
       "      <td>528.0</td>\n",
       "      <td>NaN</td>\n",
       "      <td>NaN</td>\n",
       "      <td>0</td>\n",
       "      <td>464323.5</td>\n",
       "      <td>NaN</td>\n",
       "      <td>NaN</td>\n",
       "      <td>0.0</td>\n",
       "      <td>Consumer credit</td>\n",
       "      <td>-16</td>\n",
       "      <td>NaN</td>\n",
       "    </tr>\n",
       "    <tr>\n",
       "      <th>3</th>\n",
       "      <td>215354</td>\n",
       "      <td>5714465</td>\n",
       "      <td>Active</td>\n",
       "      <td>currency 1</td>\n",
       "      <td>-203</td>\n",
       "      <td>0</td>\n",
       "      <td>NaN</td>\n",
       "      <td>NaN</td>\n",
       "      <td>NaN</td>\n",
       "      <td>0</td>\n",
       "      <td>90000.0</td>\n",
       "      <td>NaN</td>\n",
       "      <td>NaN</td>\n",
       "      <td>0.0</td>\n",
       "      <td>Credit card</td>\n",
       "      <td>-16</td>\n",
       "      <td>NaN</td>\n",
       "    </tr>\n",
       "    <tr>\n",
       "      <th>4</th>\n",
       "      <td>215354</td>\n",
       "      <td>5714466</td>\n",
       "      <td>Active</td>\n",
       "      <td>currency 1</td>\n",
       "      <td>-629</td>\n",
       "      <td>0</td>\n",
       "      <td>1197.0</td>\n",
       "      <td>NaN</td>\n",
       "      <td>77674.5</td>\n",
       "      <td>0</td>\n",
       "      <td>2700000.0</td>\n",
       "      <td>NaN</td>\n",
       "      <td>NaN</td>\n",
       "      <td>0.0</td>\n",
       "      <td>Consumer credit</td>\n",
       "      <td>-21</td>\n",
       "      <td>NaN</td>\n",
       "    </tr>\n",
       "  </tbody>\n",
       "</table>\n",
       "</div>"
      ],
      "text/plain": [
       "   SK_ID_CURR  SK_ID_BUREAU CREDIT_ACTIVE CREDIT_CURRENCY  DAYS_CREDIT  \\\n",
       "0      215354       5714462        Closed      currency 1         -497   \n",
       "1      215354       5714463        Active      currency 1         -208   \n",
       "2      215354       5714464        Active      currency 1         -203   \n",
       "3      215354       5714465        Active      currency 1         -203   \n",
       "4      215354       5714466        Active      currency 1         -629   \n",
       "\n",
       "   CREDIT_DAY_OVERDUE  DAYS_CREDIT_ENDDATE  DAYS_ENDDATE_FACT  \\\n",
       "0                   0               -153.0             -153.0   \n",
       "1                   0               1075.0                NaN   \n",
       "2                   0                528.0                NaN   \n",
       "3                   0                  NaN                NaN   \n",
       "4                   0               1197.0                NaN   \n",
       "\n",
       "   AMT_CREDIT_MAX_OVERDUE  CNT_CREDIT_PROLONG  AMT_CREDIT_SUM  \\\n",
       "0                     NaN                   0         91323.0   \n",
       "1                     NaN                   0        225000.0   \n",
       "2                     NaN                   0        464323.5   \n",
       "3                     NaN                   0         90000.0   \n",
       "4                 77674.5                   0       2700000.0   \n",
       "\n",
       "   AMT_CREDIT_SUM_DEBT  AMT_CREDIT_SUM_LIMIT  AMT_CREDIT_SUM_OVERDUE  \\\n",
       "0                  0.0                   NaN                     0.0   \n",
       "1             171342.0                   NaN                     0.0   \n",
       "2                  NaN                   NaN                     0.0   \n",
       "3                  NaN                   NaN                     0.0   \n",
       "4                  NaN                   NaN                     0.0   \n",
       "\n",
       "       CREDIT_TYPE  DAYS_CREDIT_UPDATE  AMT_ANNUITY  \n",
       "0  Consumer credit                -131          NaN  \n",
       "1      Credit card                 -20          NaN  \n",
       "2  Consumer credit                 -16          NaN  \n",
       "3      Credit card                 -16          NaN  \n",
       "4  Consumer credit                 -21          NaN  "
      ]
     },
     "execution_count": 74,
     "metadata": {},
     "output_type": "execute_result"
    }
   ],
   "source": [
    "# looking how does the bureau looks like\n",
    "bureau_data.head()\n"
   ]
  },
  {
   "cell_type": "code",
   "execution_count": 75,
   "id": "e2b7ade5",
   "metadata": {},
   "outputs": [
    {
     "name": "stdout",
     "output_type": "stream",
     "text": [
      "<class 'pandas.core.frame.DataFrame'>\n",
      "RangeIndex: 1716428 entries, 0 to 1716427\n",
      "Data columns (total 17 columns):\n",
      " #   Column                  Dtype  \n",
      "---  ------                  -----  \n",
      " 0   SK_ID_CURR              int64  \n",
      " 1   SK_ID_BUREAU            int64  \n",
      " 2   CREDIT_ACTIVE           object \n",
      " 3   CREDIT_CURRENCY         object \n",
      " 4   DAYS_CREDIT             int64  \n",
      " 5   CREDIT_DAY_OVERDUE      int64  \n",
      " 6   DAYS_CREDIT_ENDDATE     float64\n",
      " 7   DAYS_ENDDATE_FACT       float64\n",
      " 8   AMT_CREDIT_MAX_OVERDUE  float64\n",
      " 9   CNT_CREDIT_PROLONG      int64  \n",
      " 10  AMT_CREDIT_SUM          float64\n",
      " 11  AMT_CREDIT_SUM_DEBT     float64\n",
      " 12  AMT_CREDIT_SUM_LIMIT    float64\n",
      " 13  AMT_CREDIT_SUM_OVERDUE  float64\n",
      " 14  CREDIT_TYPE             object \n",
      " 15  DAYS_CREDIT_UPDATE      int64  \n",
      " 16  AMT_ANNUITY             float64\n",
      "dtypes: float64(8), int64(6), object(3)\n",
      "memory usage: 222.6+ MB\n"
     ]
    }
   ],
   "source": [
    "bureau_data.info()"
   ]
  },
  {
   "cell_type": "code",
   "execution_count": 76,
   "id": "8cd9534b",
   "metadata": {},
   "outputs": [
    {
     "data": {
      "text/plain": [
       "(1716428, 17)"
      ]
     },
     "execution_count": 76,
     "metadata": {},
     "output_type": "execute_result"
    }
   ],
   "source": [
    "bureau_data.shape"
   ]
  },
  {
   "cell_type": "code",
   "execution_count": 77,
   "id": "0cad5e08",
   "metadata": {},
   "outputs": [
    {
     "data": {
      "text/plain": [
       "SK_ID_CURR                  int64\n",
       "SK_ID_BUREAU                int64\n",
       "CREDIT_ACTIVE              object\n",
       "CREDIT_CURRENCY            object\n",
       "DAYS_CREDIT                 int64\n",
       "CREDIT_DAY_OVERDUE          int64\n",
       "DAYS_CREDIT_ENDDATE       float64\n",
       "DAYS_ENDDATE_FACT         float64\n",
       "AMT_CREDIT_MAX_OVERDUE    float64\n",
       "CNT_CREDIT_PROLONG          int64\n",
       "AMT_CREDIT_SUM            float64\n",
       "AMT_CREDIT_SUM_DEBT       float64\n",
       "AMT_CREDIT_SUM_LIMIT      float64\n",
       "AMT_CREDIT_SUM_OVERDUE    float64\n",
       "CREDIT_TYPE                object\n",
       "DAYS_CREDIT_UPDATE          int64\n",
       "AMT_ANNUITY               float64\n",
       "dtype: object"
      ]
     },
     "execution_count": 77,
     "metadata": {},
     "output_type": "execute_result"
    }
   ],
   "source": [
    "bureau_data.dtypes"
   ]
  },
  {
   "cell_type": "code",
   "execution_count": 78,
   "id": "bcb56c02",
   "metadata": {},
   "outputs": [
    {
     "data": {
      "text/plain": [
       "Index(['SK_ID_CURR', 'SK_ID_BUREAU', 'CREDIT_ACTIVE', 'CREDIT_CURRENCY',\n",
       "       'DAYS_CREDIT', 'CREDIT_DAY_OVERDUE', 'DAYS_CREDIT_ENDDATE',\n",
       "       'DAYS_ENDDATE_FACT', 'AMT_CREDIT_MAX_OVERDUE', 'CNT_CREDIT_PROLONG',\n",
       "       'AMT_CREDIT_SUM', 'AMT_CREDIT_SUM_DEBT', 'AMT_CREDIT_SUM_LIMIT',\n",
       "       'AMT_CREDIT_SUM_OVERDUE', 'CREDIT_TYPE', 'DAYS_CREDIT_UPDATE',\n",
       "       'AMT_ANNUITY'],\n",
       "      dtype='object')"
      ]
     },
     "execution_count": 78,
     "metadata": {},
     "output_type": "execute_result"
    }
   ],
   "source": [
    "bureau_data.columns"
   ]
  },
  {
   "cell_type": "code",
   "execution_count": 79,
   "id": "322f1bde",
   "metadata": {},
   "outputs": [
    {
     "name": "stdout",
     "output_type": "stream",
     "text": [
      "               Column Name  Missing Values  Missing Percentage\n",
      "0              AMT_ANNUITY         1226791               71.47\n",
      "1   AMT_CREDIT_MAX_OVERDUE         1124488               65.51\n",
      "2        DAYS_ENDDATE_FACT          633653               36.92\n",
      "3     AMT_CREDIT_SUM_LIMIT          591780               34.48\n",
      "4      AMT_CREDIT_SUM_DEBT          257669               15.01\n",
      "5      DAYS_CREDIT_ENDDATE          105553                6.15\n",
      "6            CREDIT_ACTIVE               0                0.00\n",
      "7          CREDIT_CURRENCY               0                0.00\n",
      "8              DAYS_CREDIT               0                0.00\n",
      "9       CREDIT_DAY_OVERDUE               0                0.00\n",
      "10            SK_ID_BUREAU               0                0.00\n",
      "11      CNT_CREDIT_PROLONG               0                0.00\n",
      "12          AMT_CREDIT_SUM              13                0.00\n",
      "13  AMT_CREDIT_SUM_OVERDUE               0                0.00\n",
      "14             CREDIT_TYPE               0                0.00\n",
      "15      DAYS_CREDIT_UPDATE               0                0.00\n",
      "16              SK_ID_CURR               0                0.00\n",
      "\n",
      "Summary Information:\n",
      "Total columns in the DataFrame: 17\n",
      "Columns with missing values: 7\n"
     ]
    }
   ],
   "source": [
    "# Calling the function with  bureau_data\n",
    "display_missing_data_statistics(bureau_data)"
   ]
  },
  {
   "cell_type": "markdown",
   "id": "a7d0054c",
   "metadata": {},
   "source": [
    "## 12. Merging bureau_data and train_data"
   ]
  },
  {
   "cell_type": "code",
   "execution_count": 80,
   "id": "f71cc89e",
   "metadata": {},
   "outputs": [
    {
     "data": {
      "text/html": [
       "<div>\n",
       "<style scoped>\n",
       "    .dataframe tbody tr th:only-of-type {\n",
       "        vertical-align: middle;\n",
       "    }\n",
       "\n",
       "    .dataframe tbody tr th {\n",
       "        vertical-align: top;\n",
       "    }\n",
       "\n",
       "    .dataframe thead th {\n",
       "        text-align: right;\n",
       "    }\n",
       "</style>\n",
       "<table border=\"1\" class=\"dataframe\">\n",
       "  <thead>\n",
       "    <tr style=\"text-align: right;\">\n",
       "      <th></th>\n",
       "      <th>SK_ID_CURR</th>\n",
       "      <th>TARGET</th>\n",
       "      <th>CNT_CHILDREN</th>\n",
       "      <th>AMT_INCOME_TOTAL</th>\n",
       "      <th>AMT_CREDIT</th>\n",
       "      <th>REGION_POPULATION_RELATIVE</th>\n",
       "      <th>DAYS_BIRTH</th>\n",
       "      <th>DAYS_EMPLOYED</th>\n",
       "      <th>DAYS_REGISTRATION</th>\n",
       "      <th>DAYS_ID_PUBLISH</th>\n",
       "      <th>...</th>\n",
       "      <th>DAYS_CREDIT_ENDDATE</th>\n",
       "      <th>DAYS_ENDDATE_FACT</th>\n",
       "      <th>AMT_CREDIT_MAX_OVERDUE</th>\n",
       "      <th>CNT_CREDIT_PROLONG</th>\n",
       "      <th>AMT_CREDIT_SUM</th>\n",
       "      <th>AMT_CREDIT_SUM_DEBT</th>\n",
       "      <th>AMT_CREDIT_SUM_LIMIT</th>\n",
       "      <th>AMT_CREDIT_SUM_OVERDUE</th>\n",
       "      <th>DAYS_CREDIT_UPDATE</th>\n",
       "      <th>AMT_ANNUITY</th>\n",
       "    </tr>\n",
       "  </thead>\n",
       "  <tbody>\n",
       "    <tr>\n",
       "      <th>0</th>\n",
       "      <td>100002</td>\n",
       "      <td>1</td>\n",
       "      <td>0</td>\n",
       "      <td>202500.0</td>\n",
       "      <td>406597.5</td>\n",
       "      <td>0.018801</td>\n",
       "      <td>-9461</td>\n",
       "      <td>-637</td>\n",
       "      <td>-3648.0</td>\n",
       "      <td>-2120</td>\n",
       "      <td>...</td>\n",
       "      <td>-349.0</td>\n",
       "      <td>-697.500000</td>\n",
       "      <td>1681.029</td>\n",
       "      <td>0.0</td>\n",
       "      <td>108131.945625</td>\n",
       "      <td>49156.2</td>\n",
       "      <td>7997.14125</td>\n",
       "      <td>0.0</td>\n",
       "      <td>-499.875</td>\n",
       "      <td>0.0</td>\n",
       "    </tr>\n",
       "    <tr>\n",
       "      <th>1</th>\n",
       "      <td>100003</td>\n",
       "      <td>0</td>\n",
       "      <td>0</td>\n",
       "      <td>270000.0</td>\n",
       "      <td>1293502.5</td>\n",
       "      <td>0.003541</td>\n",
       "      <td>-16765</td>\n",
       "      <td>-1188</td>\n",
       "      <td>-1186.0</td>\n",
       "      <td>-291</td>\n",
       "      <td>...</td>\n",
       "      <td>-544.5</td>\n",
       "      <td>-1097.333333</td>\n",
       "      <td>0.000</td>\n",
       "      <td>0.0</td>\n",
       "      <td>254350.125000</td>\n",
       "      <td>0.0</td>\n",
       "      <td>202500.00000</td>\n",
       "      <td>0.0</td>\n",
       "      <td>-816.000</td>\n",
       "      <td>NaN</td>\n",
       "    </tr>\n",
       "    <tr>\n",
       "      <th>2</th>\n",
       "      <td>100004</td>\n",
       "      <td>0</td>\n",
       "      <td>0</td>\n",
       "      <td>67500.0</td>\n",
       "      <td>135000.0</td>\n",
       "      <td>0.010032</td>\n",
       "      <td>-19046</td>\n",
       "      <td>-225</td>\n",
       "      <td>-4260.0</td>\n",
       "      <td>-2531</td>\n",
       "      <td>...</td>\n",
       "      <td>-488.5</td>\n",
       "      <td>-532.500000</td>\n",
       "      <td>0.000</td>\n",
       "      <td>0.0</td>\n",
       "      <td>94518.900000</td>\n",
       "      <td>0.0</td>\n",
       "      <td>0.00000</td>\n",
       "      <td>0.0</td>\n",
       "      <td>-532.000</td>\n",
       "      <td>NaN</td>\n",
       "    </tr>\n",
       "    <tr>\n",
       "      <th>3</th>\n",
       "      <td>100006</td>\n",
       "      <td>0</td>\n",
       "      <td>0</td>\n",
       "      <td>135000.0</td>\n",
       "      <td>312682.5</td>\n",
       "      <td>0.008019</td>\n",
       "      <td>-19005</td>\n",
       "      <td>-3039</td>\n",
       "      <td>-9833.0</td>\n",
       "      <td>-2437</td>\n",
       "      <td>...</td>\n",
       "      <td>NaN</td>\n",
       "      <td>NaN</td>\n",
       "      <td>NaN</td>\n",
       "      <td>NaN</td>\n",
       "      <td>NaN</td>\n",
       "      <td>NaN</td>\n",
       "      <td>NaN</td>\n",
       "      <td>NaN</td>\n",
       "      <td>NaN</td>\n",
       "      <td>NaN</td>\n",
       "    </tr>\n",
       "    <tr>\n",
       "      <th>4</th>\n",
       "      <td>100007</td>\n",
       "      <td>0</td>\n",
       "      <td>0</td>\n",
       "      <td>121500.0</td>\n",
       "      <td>513000.0</td>\n",
       "      <td>0.028663</td>\n",
       "      <td>-19932</td>\n",
       "      <td>-3038</td>\n",
       "      <td>-4311.0</td>\n",
       "      <td>-3458</td>\n",
       "      <td>...</td>\n",
       "      <td>-783.0</td>\n",
       "      <td>-783.000000</td>\n",
       "      <td>0.000</td>\n",
       "      <td>0.0</td>\n",
       "      <td>146250.000000</td>\n",
       "      <td>0.0</td>\n",
       "      <td>0.00000</td>\n",
       "      <td>0.0</td>\n",
       "      <td>-783.000</td>\n",
       "      <td>NaN</td>\n",
       "    </tr>\n",
       "  </tbody>\n",
       "</table>\n",
       "<p>5 rows × 173 columns</p>\n",
       "</div>"
      ],
      "text/plain": [
       "   SK_ID_CURR  TARGET  CNT_CHILDREN  AMT_INCOME_TOTAL  AMT_CREDIT  \\\n",
       "0      100002       1             0          202500.0    406597.5   \n",
       "1      100003       0             0          270000.0   1293502.5   \n",
       "2      100004       0             0           67500.0    135000.0   \n",
       "3      100006       0             0          135000.0    312682.5   \n",
       "4      100007       0             0          121500.0    513000.0   \n",
       "\n",
       "   REGION_POPULATION_RELATIVE  DAYS_BIRTH  DAYS_EMPLOYED  DAYS_REGISTRATION  \\\n",
       "0                    0.018801       -9461           -637            -3648.0   \n",
       "1                    0.003541      -16765          -1188            -1186.0   \n",
       "2                    0.010032      -19046           -225            -4260.0   \n",
       "3                    0.008019      -19005          -3039            -9833.0   \n",
       "4                    0.028663      -19932          -3038            -4311.0   \n",
       "\n",
       "   DAYS_ID_PUBLISH  ...  DAYS_CREDIT_ENDDATE  DAYS_ENDDATE_FACT  \\\n",
       "0            -2120  ...               -349.0        -697.500000   \n",
       "1             -291  ...               -544.5       -1097.333333   \n",
       "2            -2531  ...               -488.5        -532.500000   \n",
       "3            -2437  ...                  NaN                NaN   \n",
       "4            -3458  ...               -783.0        -783.000000   \n",
       "\n",
       "   AMT_CREDIT_MAX_OVERDUE  CNT_CREDIT_PROLONG  AMT_CREDIT_SUM  \\\n",
       "0                1681.029                 0.0   108131.945625   \n",
       "1                   0.000                 0.0   254350.125000   \n",
       "2                   0.000                 0.0    94518.900000   \n",
       "3                     NaN                 NaN             NaN   \n",
       "4                   0.000                 0.0   146250.000000   \n",
       "\n",
       "   AMT_CREDIT_SUM_DEBT  AMT_CREDIT_SUM_LIMIT  AMT_CREDIT_SUM_OVERDUE  \\\n",
       "0              49156.2            7997.14125                     0.0   \n",
       "1                  0.0          202500.00000                     0.0   \n",
       "2                  0.0               0.00000                     0.0   \n",
       "3                  NaN                   NaN                     NaN   \n",
       "4                  0.0               0.00000                     0.0   \n",
       "\n",
       "   DAYS_CREDIT_UPDATE  AMT_ANNUITY  \n",
       "0            -499.875          0.0  \n",
       "1            -816.000          NaN  \n",
       "2            -532.000          NaN  \n",
       "3                 NaN          NaN  \n",
       "4            -783.000          NaN  \n",
       "\n",
       "[5 rows x 173 columns]"
      ]
     },
     "execution_count": 80,
     "metadata": {},
     "output_type": "execute_result"
    }
   ],
   "source": [
    "train_bureau_merged = train_data_encoded.merge(bureau_data.groupby('SK_ID_CURR').mean().reset_index(), \n",
    "                                            left_on='SK_ID_CURR', right_on='SK_ID_CURR', \n",
    "                                            how='left', validate='one_to_one')\n",
    "train_bureau_merged.head()\n"
   ]
  },
  {
   "cell_type": "code",
   "execution_count": 81,
   "id": "caa0702b",
   "metadata": {},
   "outputs": [
    {
     "data": {
      "text/plain": [
       "TARGET                                               1.000000\n",
       "DAYS_CREDIT                                          0.089729\n",
       "DAYS_BIRTH                                           0.078239\n",
       "DAYS_CREDIT_UPDATE                                   0.068927\n",
       "REGION_RATING_CLIENT_W_CITY                          0.060893\n",
       "REGION_RATING_CLIENT                                 0.058899\n",
       "NAME_INCOME_TYPE_Working                             0.057481\n",
       "DAYS_LAST_PHONE_CHANGE                               0.055218\n",
       "CODE_GENDER_M                                        0.054713\n",
       "DAYS_ENDDATE_FACT                                    0.053200\n",
       "DAYS_ID_PUBLISH                                      0.051457\n",
       "REG_CITY_NOT_WORK_CITY                               0.050994\n",
       "NAME_EDUCATION_TYPE_Secondary / secondary special    0.049824\n",
       "DAYS_CREDIT_ENDDATE                                  0.046983\n",
       "FLAG_EMP_PHONE                                       0.045982\n",
       "REG_CITY_NOT_LIVE_CITY                               0.044395\n",
       "DAYS_REGISTRATION                                    0.041975\n",
       "DEF_30_CNT_SOCIAL_CIRCLE                             0.032222\n",
       "NAME_CONTRACT_TYPE_Cash loans                        0.030896\n",
       "OCCUPATION_TYPE_Drivers                              0.030303\n",
       "NAME_HOUSING_TYPE_With parents                       0.029966\n",
       "ORGANIZATION_TYPE_Self-employed                      0.029139\n",
       "FLAG_WORK_PHONE                                      0.028524\n",
       "OCCUPATION_TYPE_Low-skill Laborers                   0.027591\n",
       "NAME_FAMILY_STATUS_Single / not married              0.026518\n",
       "ORGANIZATION_TYPE_Business Entity Type 3             0.023993\n",
       "NAME_FAMILY_STATUS_Civil marriage                    0.022496\n",
       "FLAG_OWN_CAR_N                                       0.021851\n",
       "ORGANIZATION_TYPE_Construction                       0.019792\n",
       "NAME_HOUSING_TYPE_Rented apartment                   0.019767\n",
       "Name: TARGET, dtype: float64"
      ]
     },
     "execution_count": 81,
     "metadata": {},
     "output_type": "execute_result"
    }
   ],
   "source": [
    "correlation_merge = train_bureau_merged.corr()\n",
    "corr_target = correlation_merge[\"TARGET\"].sort_values(ascending=False)\n",
    "corr_target.head(30)"
   ]
  },
  {
   "cell_type": "markdown",
   "id": "758c1495",
   "metadata": {},
   "source": [
    "From the above observation we see that the DAYS_CREDIT have highest correlation with respect to Target."
   ]
  },
  {
   "cell_type": "code",
   "execution_count": 82,
   "id": "4eec4382",
   "metadata": {},
   "outputs": [
    {
     "data": {
      "image/png": "[encoded data removed]",
      "text/plain": [
       "<Figure size 1000x600 with 1 Axes>"
      ]
     },
     "metadata": {},
     "output_type": "display_data"
    }
   ],
   "source": [
    "\n",
    "# Set the figure size\n",
    "plt.figure(figsize=(10, 6))\n",
    "\n",
    "# Plot KDE for target 0 and target 1\n",
    "for target in [0, 1]:\n",
    "    sns.kdeplot(train_bureau_merged.loc[train_bureau_merged['TARGET'] == target, 'DAYS_CREDIT'], label=f'target == {target}')\n",
    "\n",
    "# Set labels and title\n",
    "plt.xlabel('DAYS_CREDIT')\n",
    "plt.ylabel('Density')\n",
    "plt.title('Distribution of DAYS_CREDIT')\n",
    "\n",
    "# Add a legend\n",
    "plt.legend()\n",
    "\n",
    "# Show the plot\n",
    "plt.show()\n"
   ]
  },
  {
   "cell_type": "markdown",
   "id": "7c029a06",
   "metadata": {},
   "source": [
    "## 13. Result\n"
   ]
  },
  {
   "cell_type": "markdown",
   "id": "3df16664",
   "metadata": {},
   "source": [
    "list of observations from exploratory data analysis (EDA):\n",
    "\n",
    "•\tThere are more loans paid back than not, so we should focus on the ones not paid back.\n",
    "\n",
    "•\tThere are more female clients, but males are less likely to repay loans.\n",
    "\n",
    "•\tRevolving loans are a small part but have high non-repayment rates.\n",
    "\n",
    "•\tCar ownership doesn't affect repayment much, and real estate ownership is common.\n",
    "\n",
    "•\tDifferent income sources affect loan repayment differently.\n",
    "\n",
    "•\tBasic education clients struggle more, while academic degree holders repay loans better.\n",
    "\n",
    "•\tMarried clients are common, civil partnerships struggle with repayment.\n",
    "\n",
    "•\tLaborers and Sales staff take many loans, but Low-skill Laborers struggle the most.\n",
    "\n",
    "•\tTotal credit amount doesn't show a clear repayment pattern.\n",
    "\n",
    "•\tClients without children face fewer repayment issues.\n",
    "\n",
    "•\tYounger individuals tend to repay loans better, possibly due to fewer financial responsibilities and better career prospects, but age isn't the only factor lenders consider.\n"
   ]
  },
  {
   "cell_type": "markdown",
   "id": "73819e29",
   "metadata": {},
   "source": [
    "## 14. Future Steps"
   ]
  },
  {
   "cell_type": "markdown",
   "id": "cccd02be",
   "metadata": {},
   "source": [
    "The following are the additional steps that are in plan for future analysis:\n",
    "\n",
    "•\tFinding Outliers:  For ensuring data quality and understanding the potential impact of outliers on our analysis. We will employ statistical methods and visualization techniques, such as box plots and scatter plots, to detect and visualize outliers. \n",
    "\n",
    "•\tModel Selection: Will be choosing appropriate classification algorithms for this problem.\n",
    "\n",
    "•\tModel Training: Training selected models on the data.\n",
    "\n",
    "\n",
    "•\tHyperparameter Tuning: Fine-tune model parameters for optimal performance.\n",
    "\n",
    "•\tModel Evaluation and Validation: Assess model performance using cross-validation and relevant metrics.\n",
    "\n",
    "\n",
    "•\tAddress Class Imbalance: Handle class imbalance using oversampling, undersampling, or weighted models.\n",
    "\n",
    "•\tInterpretability and Explainability: Understand and explain model predictions.\n",
    "\n",
    "\n",
    "•\tModel Deployment: Deploying model for making predictions in production.\n",
    "\n",
    "•\tMonitoring and Maintenance: Continuously monitoring, retraining, and updating the model as needed.\n",
    "\n"
   ]
  },
  {
   "cell_type": "code",
   "execution_count": 83,
   "id": "658ec5f0",
   "metadata": {},
   "outputs": [
    {
     "name": "stdout",
     "output_type": "stream",
     "text": [
      "Requirement already satisfied: pandas in c:\\users\\u1448935\\appdata\\local\\anaconda3\\lib\\site-packages (1.5.3)\n",
      "Requirement already satisfied: scikit-learn in c:\\users\\u1448935\\appdata\\local\\anaconda3\\lib\\site-packages (1.2.1)\n",
      "Requirement already satisfied: numpy>=1.21.0 in c:\\users\\u1448935\\appdata\\local\\anaconda3\\lib\\site-packages (from pandas) (1.23.5)\n",
      "Requirement already satisfied: python-dateutil>=2.8.1 in c:\\users\\u1448935\\appdata\\local\\anaconda3\\lib\\site-packages (from pandas) (2.8.2)\n",
      "Requirement already satisfied: pytz>=2020.1 in c:\\users\\u1448935\\appdata\\local\\anaconda3\\lib\\site-packages (from pandas) (2022.7)\n",
      "Requirement already satisfied: threadpoolctl>=2.0.0 in c:\\users\\u1448935\\appdata\\local\\anaconda3\\lib\\site-packages (from scikit-learn) (2.2.0)\n",
      "Requirement already satisfied: joblib>=1.1.1 in c:\\users\\u1448935\\appdata\\local\\anaconda3\\lib\\site-packages (from scikit-learn) (1.1.1)\n",
      "Requirement already satisfied: scipy>=1.3.2 in c:\\users\\u1448935\\appdata\\local\\anaconda3\\lib\\site-packages (from scikit-learn) (1.10.0)\n",
      "Requirement already satisfied: six>=1.5 in c:\\users\\u1448935\\appdata\\local\\anaconda3\\lib\\site-packages (from python-dateutil>=2.8.1->pandas) (1.16.0)\n",
      "Note: you may need to restart the kernel to use updated packages.\n"
     ]
    }
   ],
   "source": [
    "pip install pandas scikit-learn"
   ]
  }
 ],
 "metadata": {
  "kernelspec": {
   "display_name": "Python 3 (ipykernel)",
   "language": "python",
   "name": "python3"
  },
  "language_info": {
   "codemirror_mode": {
    "name": "ipython",
    "version": 3
   },
   "file_extension": ".py",
   "mimetype": "text/x-python",
   "name": "python",
   "nbconvert_exporter": "python",
   "pygments_lexer": "ipython3",
   "version": "3.11.5"
  }
 },
 "nbformat": 4,
 "nbformat_minor": 5
}
